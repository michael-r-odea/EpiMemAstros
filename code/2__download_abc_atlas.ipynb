{
 "cells": [
  {
   "cell_type": "markdown",
   "id": "7b336ed7-f2c9-4690-8c4c-2975476fa3a1",
   "metadata": {},
   "source": [
    "## Step 2: Download Allen Brain Cell atlas data"
   ]
  },
  {
   "cell_type": "markdown",
   "id": "6964faeb-c70e-4eda-8a94-eae6523b8bc9",
   "metadata": {},
   "source": [
    "To evaluate whether the epigenetic memory astrocyte signature shows signs of non-astrocyte contamination, we use the annotated single-cell RNA-seq data from the Allen Brain Cell atlas ([Yao et al 2023, PMID: 38092916](https://pubmed.ncbi.nlm.nih.gov/38092916/)) as a reference for typical gene expression across brain cell types.\n",
    "\n",
    "Note: the downloads performed in this notebook will require approximately 300 GB of disk space and may take a long time (usually a few hours)."
   ]
  },
  {
   "cell_type": "code",
   "execution_count": 1,
   "id": "69d0aaca-6603-4533-96cf-c22ef366eb61",
   "metadata": {},
   "outputs": [],
   "source": [
    "import os\n",
    "from pathlib import Path\n",
    "from abc_atlas_access.abc_atlas_cache.abc_project_cache import AbcProjectCache\n",
    "os.chdir('..') # here we change the working directory so we're operating from the main 'EpiMemAstros' folder instead of the 'code' subdirectory. Change this as needed."
   ]
  },
  {
   "cell_type": "markdown",
   "id": "2fab4270-003f-49a5-a6bc-7b9a883e2998",
   "metadata": {},
   "source": [
    "First, set up a download folder, project cache, and check the current release version."
   ]
  },
  {
   "cell_type": "code",
   "execution_count": 2,
   "id": "85177420-dd99-4efe-9d5b-bdab4e8a7495",
   "metadata": {},
   "outputs": [
    {
     "name": "stderr",
     "output_type": "stream",
     "text": [
      "/Users/liddelowlab/mambaforge/envs/EpiMemAstros/lib/python3.10/site-packages/abc_atlas_access/abc_atlas_cache/cloud_cache.py:470: MissingLocalManifestWarning: This cache directory appears to contain data files, but it has no record of what those files are. Unless running as a LocalCache, files will be re-downloaded.\n",
      "  warnings.warn(msg, MissingLocalManifestWarning)\n"
     ]
    },
    {
     "data": {
      "text/plain": [
       "'releases/20241130/manifest.json'"
      ]
     },
     "execution_count": 2,
     "metadata": {},
     "output_type": "execute_result"
    }
   ],
   "source": [
    "download_base = Path('inputs/ABC_atlas/abc_atlas_downloads/')\n",
    "abc_cache = AbcProjectCache.from_cache_dir(download_base)\n",
    "\n",
    "abc_cache.current_manifest"
   ]
  },
  {
   "cell_type": "markdown",
   "id": "95ec325c-f1e1-4080-928e-26c139392888",
   "metadata": {},
   "source": [
    "Next, download the whole mouse brain dataset metadata."
   ]
  },
  {
   "cell_type": "code",
   "execution_count": 3,
   "id": "44b45415-6d38-4d7b-b3fd-cfc14b1d7bdf",
   "metadata": {},
   "outputs": [
    {
     "name": "stderr",
     "output_type": "stream",
     "text": [
      "cell_metadata.csv: 100%|████████████████████████████████████████████████████████████████████████████████████████████████████████| 1.01G/1.01G [04:29<00:00, 3.73MMB/s]\n",
      "cell_metadata_with_cluster_annotation.csv: 100%|████████████████████████████████████████████████████████████████████████████████| 1.39G/1.39G [06:35<00:00, 3.50MMB/s]\n",
      "example_genes_all_cells_expression.csv: 100%|█████████████████████████████████████████████████████████████████████████████████████| 318M/318M [00:50<00:00, 6.25MMB/s]\n",
      "gene.csv: 100%|█████████████████████████████████████████████████████████████████████████████████████████████████████████████████| 2.30M/2.30M [00:00<00:00, 3.46MMB/s]\n",
      "region_of_interest_metadata.csv: 100%|██████████████████████████████████████████████████████████████████████████████████████████| 1.40k/1.40k [00:00<00:00, 11.5kMB/s]\n",
      "cluster.csv: 100%|█████████████████████████████████████████████████████████████████████████████████████████████████████████████████| 131k/131k [00:00<00:00, 921kMB/s]\n",
      "cluster_annotation_term.csv: 100%|████████████████████████████████████████████████████████████████████████████████████████████████| 861k/861k [00:00<00:00, 1.64MMB/s]\n",
      "cluster_annotation_term_set.csv: 100%|██████████████████████████████████████████████████████████████████████████████████████████| 1.11k/1.11k [00:00<00:00, 8.28kMB/s]\n",
      "cluster_annotation_term_with_counts.csv: 100%|████████████████████████████████████████████████████████████████████████████████████| 902k/902k [00:00<00:00, 2.05MMB/s]\n",
      "cluster_to_cluster_annotation_membership.csv: 100%|█████████████████████████████████████████████████████████████████████████████| 2.21M/2.21M [00:01<00:00, 2.00MMB/s]\n",
      "cluster_to_cluster_annotation_membership_color.csv: 100%|██████████████████████████████████████████████████████████████████████████| 239k/239k [00:00<00:00, 968kMB/s]\n",
      "cluster_to_cluster_annotation_membership_pivoted.csv: 100%|███████████████████████████████████████████████████████████████████████| 531k/531k [00:00<00:00, 1.55MMB/s]\n",
      "10x_cell_metadata_with_group_membership.csv: 100%|██████████████████████████████████████████████████████████████████████████████| 1.57G/1.57G [02:48<00:00, 9.34MMB/s]\n",
      "UMAP20230830-HY-EA-Glut-GABA.csv: 100%|█████████████████████████████████████████████████████████████████████████████████████████| 13.7M/13.7M [00:08<00:00, 1.70MMB/s]\n",
      "UMAP20230830-MB-HB-CB-GABA.csv: 100%|███████████████████████████████████████████████████████████████████████████████████████████| 9.32M/9.32M [00:03<00:00, 2.90MMB/s]\n",
      "UMAP20230830-MB-HB-Glut-Sero-Dopa.csv: 100%|████████████████████████████████████████████████████████████████████████████████████| 8.42M/8.42M [00:03<00:00, 2.68MMB/s]\n",
      "UMAP20230830-NN-IMN-GC.csv: 100%|███████████████████████████████████████████████████████████████████████████████████████████████| 83.4M/83.4M [00:18<00:00, 4.39MMB/s]\n",
      "UMAP20230830-Pallium-Glut.csv: 100%|████████████████████████████████████████████████████████████████████████████████████████████| 84.5M/84.5M [00:18<00:00, 4.57MMB/s]\n",
      "UMAP20230830-Subpallium-GABA.csv: 100%|█████████████████████████████████████████████████████████████████████████████████████████| 27.7M/27.7M [00:07<00:00, 3.55MMB/s]\n",
      "UMAP20230830-TH-EPI-Glut.csv: 100%|█████████████████████████████████████████████████████████████████████████████████████████████| 6.46M/6.46M [00:02<00:00, 2.91MMB/s]\n",
      "UMAP20230830-WholeBrain.csv: 100%|████████████████████████████████████████████████████████████████████████████████████████████████| 219M/219M [00:39<00:00, 5.60MMB/s]\n",
      "cluster_group.csv: 100%|████████████████████████████████████████████████████████████████████████████████████████████████████████| 1.62k/1.62k [00:00<00:00, 10.5kMB/s]\n",
      "cluster_group_membership.csv: 100%|███████████████████████████████████████████████████████████████████████████████████████████████| 674k/674k [00:00<00:00, 1.51MMB/s]\n",
      "cluster_group_membership_pivoted.csv: 100%|███████████████████████████████████████████████████████████████████████████████████████| 270k/270k [00:00<00:00, 1.38MMB/s]\n",
      "dimension_reduction.csv: 100%|██████████████████████████████████████████████████████████████████████████████████████████████████| 1.68k/1.68k [00:00<00:00, 14.2kMB/s]\n",
      "merfish_cell_metadata_with_group_membership.csv: 100%|██████████████████████████████████████████████████████████████████████████| 1.20G/1.20G [02:36<00:00, 7.67MMB/s]\n"
     ]
    },
    {
     "data": {
      "text/plain": [
       "[PosixPath('/Users/liddelowlab/Desktop/Mike/EpiMemAstros/inputs/ABC_atlas/abc_atlas_downloads/metadata/WMB-neighborhoods/20231215/views/10x_cell_metadata_with_group_membership.csv'),\n",
       " PosixPath('/Users/liddelowlab/Desktop/Mike/EpiMemAstros/inputs/ABC_atlas/abc_atlas_downloads/metadata/WMB-neighborhoods/20231215/UMAP20230830-HY-EA-Glut-GABA.csv'),\n",
       " PosixPath('/Users/liddelowlab/Desktop/Mike/EpiMemAstros/inputs/ABC_atlas/abc_atlas_downloads/metadata/WMB-neighborhoods/20231215/UMAP20230830-MB-HB-CB-GABA.csv'),\n",
       " PosixPath('/Users/liddelowlab/Desktop/Mike/EpiMemAstros/inputs/ABC_atlas/abc_atlas_downloads/metadata/WMB-neighborhoods/20231215/UMAP20230830-MB-HB-Glut-Sero-Dopa.csv'),\n",
       " PosixPath('/Users/liddelowlab/Desktop/Mike/EpiMemAstros/inputs/ABC_atlas/abc_atlas_downloads/metadata/WMB-neighborhoods/20231215/UMAP20230830-NN-IMN-GC.csv'),\n",
       " PosixPath('/Users/liddelowlab/Desktop/Mike/EpiMemAstros/inputs/ABC_atlas/abc_atlas_downloads/metadata/WMB-neighborhoods/20231215/UMAP20230830-Pallium-Glut.csv'),\n",
       " PosixPath('/Users/liddelowlab/Desktop/Mike/EpiMemAstros/inputs/ABC_atlas/abc_atlas_downloads/metadata/WMB-neighborhoods/20231215/UMAP20230830-Subpallium-GABA.csv'),\n",
       " PosixPath('/Users/liddelowlab/Desktop/Mike/EpiMemAstros/inputs/ABC_atlas/abc_atlas_downloads/metadata/WMB-neighborhoods/20231215/UMAP20230830-TH-EPI-Glut.csv'),\n",
       " PosixPath('/Users/liddelowlab/Desktop/Mike/EpiMemAstros/inputs/ABC_atlas/abc_atlas_downloads/metadata/WMB-neighborhoods/20231215/UMAP20230830-WholeBrain.csv'),\n",
       " PosixPath('/Users/liddelowlab/Desktop/Mike/EpiMemAstros/inputs/ABC_atlas/abc_atlas_downloads/metadata/WMB-neighborhoods/20231215/cluster_group.csv'),\n",
       " PosixPath('/Users/liddelowlab/Desktop/Mike/EpiMemAstros/inputs/ABC_atlas/abc_atlas_downloads/metadata/WMB-neighborhoods/20231215/cluster_group_membership.csv'),\n",
       " PosixPath('/Users/liddelowlab/Desktop/Mike/EpiMemAstros/inputs/ABC_atlas/abc_atlas_downloads/metadata/WMB-neighborhoods/20231215/views/cluster_group_membership_pivoted.csv'),\n",
       " PosixPath('/Users/liddelowlab/Desktop/Mike/EpiMemAstros/inputs/ABC_atlas/abc_atlas_downloads/metadata/WMB-neighborhoods/20231215/dimension_reduction.csv'),\n",
       " PosixPath('/Users/liddelowlab/Desktop/Mike/EpiMemAstros/inputs/ABC_atlas/abc_atlas_downloads/metadata/WMB-neighborhoods/20231215/views/merfish_cell_metadata_with_group_membership.csv')]"
      ]
     },
     "execution_count": 3,
     "metadata": {},
     "output_type": "execute_result"
    }
   ],
   "source": [
    "abc_cache.get_directory_metadata('WMB-10X')\n",
    "abc_cache.get_directory_metadata('WMB-taxonomy')\n",
    "abc_cache.get_directory_metadata('WMB-neighborhoods')"
   ]
  },
  {
   "cell_type": "markdown",
   "id": "36d5d0e4-fd42-4101-87b9-0b47dbcbbbe7",
   "metadata": {},
   "source": [
    "Lastly, download the h5 anndata objects from the whole mouse brain 10X data."
   ]
  },
  {
   "cell_type": "code",
   "execution_count": 4,
   "id": "75c49803-5b71-4541-bd70-7c48166e8eba",
   "metadata": {},
   "outputs": [
    {
     "name": "stderr",
     "output_type": "stream",
     "text": [
      "/Users/liddelowlab/mambaforge/envs/EpiMemAstros/lib/python3.10/site-packages/abc_atlas_access/abc_atlas_cache/abc_project_cache.py:385: LargeDataSizeWarning: WMB-10Xv3 contains a significant amount of data.Continue this download only if you are sure you have enough space on your system.\n",
      "\n",
      "\tTotal directory size = 176.41 GB\n",
      "\n",
      "\n",
      "  warnings.warn(\n",
      "WMB-10Xv3-CB-log2.h5ad: 100%|███████████████████████████████████████████████████████████████████████████████████████████████████| 5.61G/5.61G [42:13<00:00, 2.21MMB/s]\n",
      "WMB-10Xv3-CB-raw.h5ad: 100%|████████████████████████████████████████████████████████████████████████████████████████████████████| 5.61G/5.61G [44:10<00:00, 2.12MMB/s]\n",
      "WMB-10Xv3-CTXsp-log2.h5ad: 100%|████████████████████████████████████████████████████████████████████████████████████████████████| 3.28G/3.28G [16:57<00:00, 3.22MMB/s]\n",
      "WMB-10Xv3-CTXsp-raw.h5ad: 100%|█████████████████████████████████████████████████████████████████████████████████████████████████| 3.28G/3.28G [12:52<00:00, 4.25MMB/s]\n",
      "WMB-10Xv3-HPF-log2.h5ad: 100%|██████████████████████████████████████████████████████████████████████████████████████████████████| 7.41G/7.41G [36:57<00:00, 3.34MMB/s]\n",
      "WMB-10Xv3-HPF-raw.h5ad: 100%|███████████████████████████████████████████████████████████████████████████████████████████████████| 7.41G/7.41G [31:10<00:00, 3.96MMB/s]\n",
      "WMB-10Xv3-HY-log2.h5ad: 100%|███████████████████████████████████████████████████████████████████████████████████████████████████| 7.25G/7.25G [35:55<00:00, 3.36MMB/s]\n",
      "WMB-10Xv3-HY-raw.h5ad: 100%|████████████████████████████████████████████████████████████████████████████████████████████████████| 7.25G/7.25G [25:15<00:00, 4.78MMB/s]\n",
      "WMB-10Xv3-Isocortex-1-log2.h5ad: 100%|████████████████████████████████████████████████████████████████████████████████████████| 11.8G/11.8G [1:04:04<00:00, 3.06MMB/s]\n",
      "WMB-10Xv3-Isocortex-1-raw.h5ad: 100%|███████████████████████████████████████████████████████████████████████████████████████████| 11.8G/11.8G [20:16<00:00, 9.67MMB/s]\n",
      "WMB-10Xv3-Isocortex-2-log2.h5ad: 100%|██████████████████████████████████████████████████████████████████████████████████████████| 8.36G/8.36G [15:05<00:00, 9.23MMB/s]\n",
      "WMB-10Xv3-Isocortex-2-raw.h5ad: 100%|███████████████████████████████████████████████████████████████████████████████████████████| 8.36G/8.36G [19:17<00:00, 7.22MMB/s]\n",
      "WMB-10Xv3-MB-log2.h5ad: 100%|███████████████████████████████████████████████████████████████████████████████████████████████████| 13.7G/13.7G [31:09<00:00, 7.34MMB/s]\n",
      "WMB-10Xv3-MB-raw.h5ad: 100%|████████████████████████████████████████████████████████████████████████████████████████████████████| 13.7G/13.7G [23:17<00:00, 9.82MMB/s]\n",
      "WMB-10Xv3-MY-log2.h5ad: 100%|███████████████████████████████████████████████████████████████████████████████████████████████████| 7.21G/7.21G [39:20<00:00, 3.05MMB/s]\n",
      "WMB-10Xv3-MY-raw.h5ad: 100%|████████████████████████████████████████████████████████████████████████████████████████████████████| 7.21G/7.21G [38:25<00:00, 3.13MMB/s]\n",
      "WMB-10Xv3-OLF-log2.h5ad: 100%|██████████████████████████████████████████████████████████████████████████████████████████████████| 3.11G/3.11G [15:55<00:00, 3.26MMB/s]\n",
      "WMB-10Xv3-OLF-raw.h5ad: 100%|███████████████████████████████████████████████████████████████████████████████████████████████████| 3.11G/3.11G [12:38<00:00, 4.11MMB/s]\n",
      "WMB-10Xv3-P-log2.h5ad: 100%|████████████████████████████████████████████████████████████████████████████████████████████████████| 5.20G/5.20G [11:17<00:00, 7.68MMB/s]\n",
      "WMB-10Xv3-P-raw.h5ad: 100%|█████████████████████████████████████████████████████████████████████████████████████████████████████| 5.20G/5.20G [19:05<00:00, 4.54MMB/s]\n",
      "WMB-10Xv3-PAL-log2.h5ad: 100%|██████████████████████████████████████████████████████████████████████████████████████████████████| 4.07G/4.07G [18:38<00:00, 3.63MMB/s]\n",
      "WMB-10Xv3-PAL-raw.h5ad: 100%|███████████████████████████████████████████████████████████████████████████████████████████████████| 4.07G/4.07G [17:05<00:00, 3.97MMB/s]\n",
      "WMB-10Xv3-STR-log2.h5ad: 100%|██████████████████████████████████████████████████████████████████████████████████████████████████| 11.9G/11.9G [47:32<00:00, 4.18MMB/s]\n",
      "WMB-10Xv3-STR-raw.h5ad: 100%|███████████████████████████████████████████████████████████████████████████████████████████████████| 11.9G/11.9G [49:47<00:00, 3.99MMB/s]\n",
      "WMB-10Xv3-TH-log2.h5ad: 100%|███████████████████████████████████████████████████████████████████████████████████████████████████| 5.81G/5.81G [25:14<00:00, 3.84MMB/s]\n",
      "WMB-10Xv3-TH-raw.h5ad: 100%|████████████████████████████████████████████████████████████████████████████████████████████████████| 5.81G/5.81G [25:21<00:00, 3.82MMB/s]\n",
      "/Users/liddelowlab/mambaforge/envs/EpiMemAstros/lib/python3.10/site-packages/abc_atlas_access/abc_atlas_cache/abc_project_cache.py:385: LargeDataSizeWarning: WMB-10Xv2 contains a significant amount of data.Continue this download only if you are sure you have enough space on your system.\n",
      "\n",
      "\tTotal directory size = 104.16 GB\n",
      "\n",
      "\n",
      "  warnings.warn(\n",
      "WMB-10Xv2-CTXsp-log2.h5ad: 100%|████████████████████████████████████████████████████████████████████████████████████████████████| 1.74G/1.74G [04:57<00:00, 5.84MMB/s]\n",
      "WMB-10Xv2-CTXsp-raw.h5ad: 100%|█████████████████████████████████████████████████████████████████████████████████████████████████| 1.73G/1.73G [03:33<00:00, 8.11MMB/s]\n",
      "WMB-10Xv2-HPF-log2.h5ad: 100%|██████████████████████████████████████████████████████████████████████████████████████████████████| 6.10G/6.10G [26:13<00:00, 3.87MMB/s]\n",
      "WMB-10Xv2-HPF-raw.h5ad: 100%|███████████████████████████████████████████████████████████████████████████████████████████████████| 6.10G/6.10G [17:24<00:00, 5.84MMB/s]\n",
      "WMB-10Xv2-HY-log2.h5ad: 100%|███████████████████████████████████████████████████████████████████████████████████████████████████| 2.91G/2.91G [10:54<00:00, 4.44MMB/s]\n",
      "WMB-10Xv2-HY-raw.h5ad: 100%|████████████████████████████████████████████████████████████████████████████████████████████████████| 2.91G/2.91G [19:51<00:00, 2.44MMB/s]\n",
      "WMB-10Xv2-Isocortex-1-log2.h5ad: 100%|██████████████████████████████████████████████████████████████████████████████████████████| 8.60G/8.60G [50:10<00:00, 2.86MMB/s]\n",
      "WMB-10Xv2-Isocortex-1-raw.h5ad: 100%|███████████████████████████████████████████████████████████████████████████████████████████| 8.60G/8.60G [30:54<00:00, 4.64MMB/s]\n",
      "WMB-10Xv2-Isocortex-2-log2.h5ad: 100%|████████████████████████████████████████████████████████████████████████████████████████| 9.44G/9.44G [1:10:09<00:00, 2.24MMB/s]\n",
      "WMB-10Xv2-Isocortex-2-raw.h5ad: 100%|███████████████████████████████████████████████████████████████████████████████████████████| 9.44G/9.44G [35:11<00:00, 4.47MMB/s]\n",
      "WMB-10Xv2-Isocortex-3-log2.h5ad: 100%|██████████████████████████████████████████████████████████████████████████████████████████| 8.46G/8.46G [22:26<00:00, 6.28MMB/s]\n",
      "WMB-10Xv2-Isocortex-3-raw.h5ad: 100%|███████████████████████████████████████████████████████████████████████████████████████████| 8.46G/8.46G [44:03<00:00, 3.20MMB/s]\n",
      "WMB-10Xv2-Isocortex-4-log2.h5ad: 100%|██████████████████████████████████████████████████████████████████████████████████████████| 8.69G/8.69G [31:43<00:00, 4.57MMB/s]\n",
      "WMB-10Xv2-Isocortex-4-raw.h5ad: 100%|███████████████████████████████████████████████████████████████████████████████████████████| 8.69G/8.69G [35:49<00:00, 4.04MMB/s]\n",
      "WMB-10Xv2-MB-log2.h5ad: 100%|█████████████████████████████████████████████████████████████████████████████████████████████████████| 817M/817M [03:28<00:00, 3.93MMB/s]\n",
      "WMB-10Xv2-MB-raw.h5ad: 100%|██████████████████████████████████████████████████████████████████████████████████████████████████████| 811M/811M [02:08<00:00, 6.32MMB/s]\n",
      "WMB-10Xv2-OLF-log2.h5ad: 100%|██████████████████████████████████████████████████████████████████████████████████████████████████| 5.13G/5.13G [19:45<00:00, 4.33MMB/s]\n",
      "WMB-10Xv2-OLF-raw.h5ad: 100%|███████████████████████████████████████████████████████████████████████████████████████████████████| 5.13G/5.13G [16:55<00:00, 5.05MMB/s]\n",
      "WMB-10Xv2-TH-log2.h5ad: 100%|███████████████████████████████████████████████████████████████████████████████████████████████████| 4.04G/4.04G [15:42<00:00, 4.29MMB/s]\n",
      "WMB-10Xv2-TH-raw.h5ad: 100%|████████████████████████████████████████████████████████████████████████████████████████████████████| 4.04G/4.04G [07:06<00:00, 9.46MMB/s]\n",
      "WMB-10XMulti-log2.h5ad: 100%|███████████████████████████████████████████████████████████████████████████████████████████████████| 89.3M/89.3M [00:16<00:00, 5.50MMB/s]\n",
      "WMB-10XMulti-raw.h5ad: 100%|██████████████████████████████████████████████████████████████████████████████████████████████████████| 132M/132M [00:36<00:00, 3.67MMB/s]\n"
     ]
    },
    {
     "data": {
      "text/plain": [
       "[PosixPath('/Users/liddelowlab/Desktop/Mike/EpiMemAstros/inputs/ABC_atlas/abc_atlas_downloads/expression_matrices/WMB-10XMulti/20230830/WMB-10XMulti-log2.h5ad'),\n",
       " PosixPath('/Users/liddelowlab/Desktop/Mike/EpiMemAstros/inputs/ABC_atlas/abc_atlas_downloads/expression_matrices/WMB-10XMulti/20230830/WMB-10XMulti-raw.h5ad')]"
      ]
     },
     "execution_count": 4,
     "metadata": {},
     "output_type": "execute_result"
    }
   ],
   "source": [
    "abc_cache.get_directory_data('WMB-10Xv3')\n",
    "abc_cache.get_directory_data('WMB-10Xv2')\n",
    "abc_cache.get_directory_data('WMB-10XMulti')"
   ]
  }
 ],
 "metadata": {
  "kernelspec": {
   "display_name": "Python 3 (ipykernel)",
   "language": "python",
   "name": "python3"
  },
  "language_info": {
   "codemirror_mode": {
    "name": "ipython",
    "version": 3
   },
   "file_extension": ".py",
   "mimetype": "text/x-python",
   "name": "python",
   "nbconvert_exporter": "python",
   "pygments_lexer": "ipython3",
   "version": "3.12.8"
  }
 },
 "nbformat": 4,
 "nbformat_minor": 5
}
