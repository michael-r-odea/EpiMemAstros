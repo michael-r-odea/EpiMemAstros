{
 "cells": [
  {
   "cell_type": "markdown",
   "id": "6752da74-fb9e-43ac-ad37-ff0f2d911331",
   "metadata": {},
   "source": [
    "### Step 11: Calculate nuclear fraction with DropletQC"
   ]
  },
  {
   "cell_type": "markdown",
   "id": "4fb5cced-bce1-495c-968f-eba901b4528d",
   "metadata": {},
   "source": [
    "Now we'll reanalyze the human single-nucleus RNA-seq data shown in Lee et al's Figure 5, which is a combination of two previously published datasets from [Absinta et al 2021 (PMID: 34497421)](https://pubmed.ncbi.nlm.nih.gov/34497421/) and [Schirmer et al 2019 (PMID: 31316211)](https://pubmed.ncbi.nlm.nih.gov/31316211/).\n",
    "\n",
    "Prior to our main reanalysis in Steps 12 & 13, we will calculate the nuclear fraction statistic for each cell in these datasets. \n",
    "\n",
    "Nuclear fraction is a quality control metric established by the tool DropletQC which reflects the proportion of RNA in a given cell which is unspliced, pre-mRNA ([Muskovic & Powell 2021 (PMID: 34857027)(https://pubmed.ncbi.nlm.nih.gov/34857027/)]). In single-nucleus RNA-seq data, a lower nuclear fraction may be a sign that a given droplet did not contain a nucleus, and is thus an empty droplet mis-called as cell containing due to the prescence of ambient RNA or cytoplasm contamination ([Montserrat-Ayuso & Esteve-Codina 2024 (PMID: 39574015)(https://pubmed.ncbi.nlm.nih.gov/39574015/)])."
   ]
  },
  {
   "cell_type": "markdown",
   "id": "acd6da4a-c14e-4a2c-92fc-d4b27e9bba42",
   "metadata": {},
   "source": [
    "Because DropletQC requires alignment BAM files as input for calculating nuclear fraction, we first retrieve the FASTQ files for the Absinta and Schirmer datasets from the Sequence Read Archive (SRA) repository. These datasets are present at accessions [GSE180759](https://www.ncbi.nlm.nih.gov/geo/query/acc.cgi?acc=GSE180759) and [PRJNA544731](https://www.ncbi.nlm.nih.gov/bioproject/PRJNA544731). Then, we preprocess and align the sequence reads using [Cell Ranger](https://www.10xgenomics.com/support/software/cell-ranger/latest/release-notes/cr-release-notes#v7-0-1).\n",
    "\n",
    "These steps were performed on a Linux HPC cluster using the SLURM resource manager using NCBI's [sra-tools program](https://github.com/ncbi/sra-tools). These bash scripts are shown below, but are not run in this notebook due to the large file sizes and run times.\n",
    "\n",
    "All HPC scripts can be found in the `code/HPC_scripts` folder.\n",
    "\n",
    "Note that HPC scripts have some file paths partially censored as `...`. Running these scripts on your own system will require updating these file paths and changing SLURM parameters to match your HPC system."
   ]
  },
  {
   "cell_type": "markdown",
   "id": "038385be-1d50-4a4b-a173-744fbe15be30",
   "metadata": {},
   "source": [
    "The SRA download scripts utilize the `sra-downloads` conda environment, which can be created from the `sra-downloads.yml` file in the `code/environments` directory."
   ]
  },
  {
   "cell_type": "markdown",
   "id": "ac264791-6218-4267-ae46-a08546c6ecff",
   "metadata": {},
   "source": [
    "The below script downloads the Absinta dataset FASTQ files from SRA.\n",
    "\n",
    "It requires as input the `Absinta_SRR_Acc_List.txt` file, which contains a list of sample accession numbers. This file can be found in the `inputs/absinta` folder."
   ]
  },
  {
   "cell_type": "markdown",
   "id": "930e87fb-ade4-4732-942b-014a53e3941b",
   "metadata": {},
   "source": [
    "```\n",
    "#!/bin/bash\n",
    "#SBATCH --partition=cpu_long,fn_long # partition on which to run\n",
    "#SBATCH --job-name=sra_absinta # name\n",
    "#SBATCH --mail-type=ALL #Mail events (NONE, BEGIN, END, FAIL, ALL)\n",
    "#SBATCH --mail-user=michael.odea@nyulangone.org #Where to send mail\n",
    "#SBATCH --ntasks=6 #Run on # of CPUs\n",
    "#SBATCH --mem-per-cpu=8gb #Job memory request ##max 128GB\n",
    "#SBATCH --time=28-00:00:00 #Time limit hrs:min:sec\n",
    "#SBATCH --output=./sra_downloads_%a.log #Standard output and error log\n",
    "#SBATCH --no-kill\n",
    "#SBATCH --array=0-37\n",
    "\n",
    "source /.../anaconda3/bin/activate sra-downloads\n",
    "\n",
    "cd ./inputs/absinta/fastq\n",
    "\n",
    "mapfile -t samples < ../Absinta_SRR_Acc_List.txt # change the file path to this input file as needed\n",
    "\n",
    "vdb-config --prefetch-to-cwd\n",
    "\n",
    "prefetch --max-size u ${samples[$SLURM_ARRAY_TASK_ID]}\n",
    "\n",
    "vdb-validate ${samples[$SLURM_ARRAY_TASK_ID]}\n",
    "\n",
    "fasterq-dump -e 6 ${samples[$SLURM_ARRAY_TASK_ID]}\n",
    "\n",
    "gzip \"${samples[$SLURM_ARRAY_TASK_ID]}\"_*\".fastq\"\n",
    "```"
   ]
  },
  {
   "cell_type": "markdown",
   "id": "34e2a26f-e0d2-4412-9234-a91e50a66da2",
   "metadata": {},
   "source": [
    "This next script downloads the Schirmer dataset FASTQ files from SRA. It requires as input the `Schirmer_SRR_Acc_List.txt` file, which contains a list of sample accession numbers. This file can be found in the `inputs/schirmer` folder."
   ]
  },
  {
   "cell_type": "markdown",
   "id": "b88f38d3-9167-438f-8c24-226653a4969d",
   "metadata": {},
   "source": [
    "```\n",
    "#!/bin/bash\n",
    "#SBATCH --partition=cpu_long,fn_long # partition on which to run\n",
    "#SBATCH --job-name=sra_schirmer # name\n",
    "#SBATCH --mail-type=ALL #Mail events (NONE, BEGIN, END, FAIL, ALL)\n",
    "#SBATCH --ntasks=6 #Run on # of CPUs\n",
    "#SBATCH --mem-per-cpu=8gb #Job memory request ##max 128GB\n",
    "#SBATCH --time=28-00:00:00 #Time limit hrs:min:sec\n",
    "#SBATCH --output=./sra_downloads.log #Standard output and error log\n",
    "#SBATCH --no-kill\n",
    "#SBATCH --array=0-20\n",
    "\n",
    "source /.../anaconda3/bin/activate sra-downloads\n",
    "\n",
    "cd ./inputs/schirmer/fastq\n",
    "\n",
    "mapfile -t samples < ../Schirmer_SRR_Acc_List.txt # change the file path to this input file as needed\n",
    "\n",
    "vdb-config --prefetch-to-cwd\n",
    "\n",
    "prefetch --max-size u ${samples[$SLURM_ARRAY_TASK_ID]}\n",
    "\n",
    "vdb-validate ${samples[$SLURM_ARRAY_TASK_ID]}\n",
    "\n",
    "fasterq-dump -e 6 ${samples[$SLURM_ARRAY_TASK_ID]}\n",
    "\n",
    "gzip \"${samples[$SLURM_ARRAY_TASK_ID]}\"_*\".fastq\"\n",
    "```"
   ]
  },
  {
   "cell_type": "markdown",
   "id": "f1fba674-04a7-4df9-a446-5fe3daeb3e5b",
   "metadata": {},
   "source": [
    "Next, we process the FASTQ files with [Cell Ranger (version 7.0.1)](https://www.10xgenomics.com/support/software/cell-ranger/latest/release-notes/cr-release-notes#v7-0-1). Because the names of the FASTQ files downloaded from SRA did not match the format expected by Cell Ranger, we first ran the following bash script to rename them:"
   ]
  },
  {
   "cell_type": "markdown",
   "id": "4deb1fa4-54c9-4718-8e39-5e4eec300450",
   "metadata": {},
   "source": [
    "```\n",
    "#!/bin/bash\n",
    "\n",
    "### name: rename_fastqs.sh\n",
    "### usage: bash rename_fastqs.sh\n",
    "\n",
    "# Directory containing the .fastq.gz files\n",
    "directory=./inputs/absinta/fastq # change the input directory file path as needed\n",
    "# we also ran this script for the schirmer fastq files\n",
    "# directory=./inputs/schirmer/fastq\n",
    "\n",
    "# Change to the target directory\n",
    "cd \"$directory\" || { echo \"Directory not found: $directory\"; exit 1; }\n",
    "\n",
    "# Iterate over the .fastq.gz files\n",
    "for file in *.fastq.gz; do\n",
    "  # Check if the file matches the pattern SRRXXXXXXX_1.fastq.gz or SRRXXXXXXX_2.fastq.gz\n",
    "  if [[ $file =~ ^(SRR[0-9]+)_(1|2)\\.fastq\\.gz$ ]]; then\n",
    "    # Extract the base name and the read number\n",
    "    base=\"${BASH_REMATCH[1]}\"\n",
    "    read_num=\"${BASH_REMATCH[2]}\"\n",
    "    \n",
    "    # Determine the new read number and file suffix\n",
    "    if [ \"$read_num\" -eq 1 ]; then\n",
    "      new_file=\"${base}_S1_R1_001.fastq.gz\"\n",
    "    elif [ \"$read_num\" -eq 2 ]; then\n",
    "      new_file=\"${base}_S1_R2_001.fastq.gz\"\n",
    "    else\n",
    "      # Skip files that do not match the expected pattern\n",
    "      continue\n",
    "    fi\n",
    "    \n",
    "    # Rename the file\n",
    "    mv \"$file\" \"$new_file\"\n",
    "    echo \"Renamed $file to $new_file\"\n",
    "  fi\n",
    "done\n",
    "```"
   ]
  },
  {
   "cell_type": "markdown",
   "id": "6e6e2741-fc46-4868-9ea4-f7a7466b0474",
   "metadata": {},
   "source": [
    "We then run Cell Ranger on the Absinta dataset. This script requires you have a working Cell Ranger version 7.0.1 installed.\n",
    "\n",
    "This script requires the `Absinta_SraRunTable.txt` file as input (which was downloaded from SRA). This file can be found in the `inputs/absinta` folder.\n",
    "\n",
    "This script also requires the pre-built Cell Ranger genome reference package `refdata-gex-GRCh38-2024-A` (Human reference (GRCh38) - 2024-A), which can be downloaded from the [10X Genomics website](https://www.10xgenomics.com/support/software/cell-ranger/downloads#reference-downloads). "
   ]
  },
  {
   "cell_type": "markdown",
   "id": "ff56152e-b0ae-4381-b1ba-b0f84897c7ba",
   "metadata": {},
   "source": [
    "```\n",
    "#!/bin/bash\n",
    "#SBATCH --partition=cpu_medium # partition on which to run\n",
    "#SBATCH --job-name=absinta_cr_count # name\n",
    "#SBATCH --mail-type=ALL #Mail events (NONE, BEGIN, END, FAIL, ALL)\n",
    "#SBATCH --ntasks=1 #Run on # of CPUs\n",
    "#SBATCH --cpus-per-task=16\n",
    "#SBATCH --mem=128gb #Job memory request ##max 128GB\n",
    "#SBATCH --time=3-00:00:00 #Time limit hrs:min:sec\n",
    "#SBATCH --output=./cellranger_count_%a.log #Standard output and error log\n",
    "#SBATCH --no-kill\n",
    "#SBATCH --array=0-19\n",
    "\n",
    "cd ./inputs/absinta/CellRanger\n",
    "\n",
    "cat ../Absinta_SraRunTable.txt | cut -d',' -f32 | uniq | grep \"GSM\" > absinta_samples.txt\n",
    "\n",
    "mapfile -t samples < absinta_samples.txt\n",
    "\n",
    "sample_ids=$(grep ${samples[$SLURM_ARRAY_TASK_ID]} ../Absinta_SraRunTable.txt | cut -d',' -f1 | tr '\\n' ',' | sed 's/\\(.*\\),/\\1 /')\n",
    "\n",
    "# id\t\t name for output directory corresponding to sample\n",
    "# fastqs         Path of folder created by 10x demultiplexing or bcl2fastq\n",
    "# transcriptome  Path of folder containing 10X-compatible transcriptome\n",
    "\n",
    "/.../CellRanger/cellranger-7.0.1/cellranger count \\\n",
    "--id \"${samples[$SLURM_ARRAY_TASK_ID]}\" \\\n",
    "--localmem 128 \\\n",
    "--localcores 16 \\\n",
    "--transcriptome=/.../CellRanger/references/refdata-gex-GRCh38-2024-A \\\n",
    "--fastqs ../fastq \\\n",
    "--include-introns=true \\\n",
    "--sample $sample_ids\n",
    "```"
   ]
  },
  {
   "cell_type": "markdown",
   "id": "6b6352a8-852a-4033-b668-c4a19fbd1712",
   "metadata": {},
   "source": [
    "We then run Cell Ranger on the Schirmer dataset using a similar script:"
   ]
  },
  {
   "cell_type": "markdown",
   "id": "93a46d7f-f11c-4473-83eb-884a422c70ca",
   "metadata": {},
   "source": [
    "```\n",
    "#!/bin/bash\n",
    "#SBATCH --partition=cpu_medium # partition on which to run\n",
    "#SBATCH --job-name=schirmer_cr_count # name\n",
    "#SBATCH --mail-type=ALL #Mail events (NONE, BEGIN, END, FAIL, ALL)\n",
    "#SBATCH --ntasks=1 #Run on # of CPUs\n",
    "#SBATCH --cpus-per-task=16\n",
    "#SBATCH --mem=128gb #Job memory request ##max 128GB\n",
    "#SBATCH --time=3-00:00:00 #Time limit hrs:min:sec\n",
    "#SBATCH --output=./cellranger_count_%a.log #Standard output and error log\n",
    "#SBATCH --no-kill\n",
    "#SBATCH --array=0-20\n",
    "\n",
    "cd ./inputs/schirmer/CellRanger\n",
    "\n",
    "cat ../Schirmer_SraRunTable.txt | cut -d',' -f35 | uniq | grep -P '\\S' > schirmer_samples.txt\n",
    "\n",
    "mapfile -t samples < schirmer_samples.txt\n",
    "\n",
    "sample_ids=$(grep ${samples[$SLURM_ARRAY_TASK_ID]} ../Schirmer_SraRunTable.txt | cut -d',' -f1 | tr '\\n' ',' | sed 's/\\(.*\\),/\\1 /')\n",
    "\n",
    "# id\t\t name for output directory corresponding to sample\n",
    "# fastqs         Path of folder created by 10x demultiplexing or bcl2fastq\n",
    "# transcriptome  Path of folder containing 10X-compatible transcriptome\n",
    "\n",
    "/.../CellRanger/cellranger-7.0.1/cellranger count \\\n",
    "--id \"${samples[$SLURM_ARRAY_TASK_ID]}\" \\\n",
    "--localmem 128 \\\n",
    "--localcores 16 \\\n",
    "--transcriptome=/.../CellRanger/references/refdata-gex-GRCh38-2024-A \\\n",
    "--fastqs ../fastq \\\n",
    "--include-introns=true \\\n",
    "--sample $sample_ids\n",
    "```"
   ]
  },
  {
   "cell_type": "markdown",
   "id": "f66af20c-9b00-487c-b31b-0620fea09e0d",
   "metadata": {},
   "source": [
    "Next we run DropletQC for the Absinta and Schirmer datasets."
   ]
  },
  {
   "cell_type": "code",
   "execution_count": 1,
   "id": "531be319-6e00-4e18-98e4-9fcd7640ca87",
   "metadata": {},
   "outputs": [
    {
     "name": "stderr",
     "output_type": "stream",
     "text": [
      "\n",
      "Attaching package: ‘dplyr’\n",
      "\n",
      "\n",
      "The following objects are masked from ‘package:data.table’:\n",
      "\n",
      "    between, first, last\n",
      "\n",
      "\n",
      "The following objects are masked from ‘package:stats’:\n",
      "\n",
      "    filter, lag\n",
      "\n",
      "\n",
      "The following objects are masked from ‘package:base’:\n",
      "\n",
      "    intersect, setdiff, setequal, union\n",
      "\n",
      "\n",
      "Loading required package: SeuratObject\n",
      "\n",
      "Loading required package: sp\n",
      "\n",
      "\n",
      "Attaching package: ‘SeuratObject’\n",
      "\n",
      "\n",
      "The following objects are masked from ‘package:base’:\n",
      "\n",
      "    intersect, t\n",
      "\n",
      "\n"
     ]
    }
   ],
   "source": [
    "library(DropletQC)\n",
    "library(data.table)\n",
    "library(ggplot2)\n",
    "library(dplyr)\n",
    "library(Seurat)\n",
    "setwd('..') # changing working directory to 'EpiMemAstros' folder. Adjust as needed."
   ]
  },
  {
   "cell_type": "markdown",
   "id": "ff0c71da-2b6b-43dc-aab2-8bc6fc38b41b",
   "metadata": {},
   "source": [
    "Read in a CSV file which contains the SRA sample information for the Absinta dataset samples:"
   ]
  },
  {
   "cell_type": "code",
   "execution_count": 2,
   "id": "6b729262-0f9e-46c8-9399-af0e7c3a6a1e",
   "metadata": {},
   "outputs": [
    {
     "data": {
      "text/html": [
       "<table class=\"dataframe\">\n",
       "<caption>A data.frame: 20 × 7</caption>\n",
       "<thead>\n",
       "\t<tr><th scope=col>GEO_ident</th><th scope=col>Sample</th><th scope=col>NBB</th><th scope=col>Block</th><th scope=col>Diagnosis</th><th scope=col>Tissue</th><th scope=col>Dataset</th></tr>\n",
       "\t<tr><th scope=col>&lt;chr&gt;</th><th scope=col>&lt;int&gt;</th><th scope=col>&lt;chr&gt;</th><th scope=col>&lt;chr&gt;</th><th scope=col>&lt;chr&gt;</th><th scope=col>&lt;chr&gt;</th><th scope=col>&lt;chr&gt;</th></tr>\n",
       "</thead>\n",
       "<tbody>\n",
       "\t<tr><td>GSM5470483</td><td> 3</td><td>13_047</td><td>MS4-2</td><td>MS  </td><td>Chronic active edge        </td><td>Absinta</td></tr>\n",
       "\t<tr><td>GSM5470484</td><td>11</td><td>09_034</td><td>MS1-2</td><td>MS  </td><td>Chronic inactive edge      </td><td>Absinta</td></tr>\n",
       "\t<tr><td>GSM5470485</td><td> 4</td><td>12_078</td><td>MS2-1</td><td>MS  </td><td>Chronic active edge        </td><td>Absinta</td></tr>\n",
       "\t<tr><td>GSM5470486</td><td> 5</td><td>09_067</td><td>MS3-1</td><td>MS  </td><td>Chronic active edge        </td><td>Absinta</td></tr>\n",
       "\t<tr><td>GSM5470487</td><td> 6</td><td>13_047</td><td>MS4-2</td><td>MS  </td><td>Chronic active edge        </td><td>Absinta</td></tr>\n",
       "\t<tr><td>GSM5470488</td><td>12</td><td>12_078</td><td>MS2-2</td><td>MS  </td><td>Chronic inactive edge      </td><td>Absinta</td></tr>\n",
       "\t<tr><td>GSM5470489</td><td>15</td><td>11_069</td><td>CTRL2</td><td>CTRL</td><td>Normal frontal white matter</td><td>Absinta</td></tr>\n",
       "\t<tr><td>GSM5470490</td><td>16</td><td>13_047</td><td>MS4-1</td><td>MS  </td><td>Lesion core                </td><td>Absinta</td></tr>\n",
       "\t<tr><td>GSM5470491</td><td>17</td><td>09_034</td><td>MS1-1</td><td>MS  </td><td>Periplaque                 </td><td>Absinta</td></tr>\n",
       "\t<tr><td>GSM5470492</td><td>18</td><td>09_067</td><td>MS3-1</td><td>MS  </td><td>Periplaque                 </td><td>Absinta</td></tr>\n",
       "\t<tr><td>GSM5470493</td><td>19</td><td>13_015</td><td>MS5-2</td><td>MS  </td><td>Periplaque                 </td><td>Absinta</td></tr>\n",
       "\t<tr><td>GSM5470494</td><td>20</td><td>12_078</td><td>MS2-1</td><td>MS  </td><td>Periplaque                 </td><td>Absinta</td></tr>\n",
       "\t<tr><td>GSM5903107</td><td> 7</td><td>09_067</td><td>MS3-2</td><td>MS  </td><td>Lesion core                </td><td>Absinta</td></tr>\n",
       "\t<tr><td>GSM5903108</td><td> 1</td><td>13_047</td><td>MS4-1</td><td>MS  </td><td>Chronic active edge        </td><td>Absinta</td></tr>\n",
       "\t<tr><td>GSM5903109</td><td> 8</td><td>13_015</td><td>MS5-1</td><td>MS  </td><td>Chronic inactive edge      </td><td>Absinta</td></tr>\n",
       "\t<tr><td>GSM5903110</td><td>13</td><td>12_002</td><td>CTRL3</td><td>CTRL</td><td>Normal frontal white matter</td><td>Absinta</td></tr>\n",
       "\t<tr><td>GSM5903111</td><td> 9</td><td>13_047</td><td>MS4-2</td><td>MS  </td><td>Chronic inactive edge      </td><td>Absinta</td></tr>\n",
       "\t<tr><td>GSM5903112</td><td> 2</td><td>09_034</td><td>MS1-1</td><td>MS  </td><td>Chronic active edge        </td><td>Absinta</td></tr>\n",
       "\t<tr><td>GSM5903113</td><td>10</td><td>13_015</td><td>MS5-2</td><td>MS  </td><td>Chronic inactive edge      </td><td>Absinta</td></tr>\n",
       "\t<tr><td>GSM5903114</td><td>14</td><td>14_043</td><td>CTRL1</td><td>CTRL</td><td>Normal frontal white matter</td><td>Absinta</td></tr>\n",
       "</tbody>\n",
       "</table>\n"
      ],
      "text/latex": [
       "A data.frame: 20 × 7\n",
       "\\begin{tabular}{lllllll}\n",
       " GEO\\_ident & Sample & NBB & Block & Diagnosis & Tissue & Dataset\\\\\n",
       " <chr> & <int> & <chr> & <chr> & <chr> & <chr> & <chr>\\\\\n",
       "\\hline\n",
       "\t GSM5470483 &  3 & 13\\_047 & MS4-2 & MS   & Chronic active edge         & Absinta\\\\\n",
       "\t GSM5470484 & 11 & 09\\_034 & MS1-2 & MS   & Chronic inactive edge       & Absinta\\\\\n",
       "\t GSM5470485 &  4 & 12\\_078 & MS2-1 & MS   & Chronic active edge         & Absinta\\\\\n",
       "\t GSM5470486 &  5 & 09\\_067 & MS3-1 & MS   & Chronic active edge         & Absinta\\\\\n",
       "\t GSM5470487 &  6 & 13\\_047 & MS4-2 & MS   & Chronic active edge         & Absinta\\\\\n",
       "\t GSM5470488 & 12 & 12\\_078 & MS2-2 & MS   & Chronic inactive edge       & Absinta\\\\\n",
       "\t GSM5470489 & 15 & 11\\_069 & CTRL2 & CTRL & Normal frontal white matter & Absinta\\\\\n",
       "\t GSM5470490 & 16 & 13\\_047 & MS4-1 & MS   & Lesion core                 & Absinta\\\\\n",
       "\t GSM5470491 & 17 & 09\\_034 & MS1-1 & MS   & Periplaque                  & Absinta\\\\\n",
       "\t GSM5470492 & 18 & 09\\_067 & MS3-1 & MS   & Periplaque                  & Absinta\\\\\n",
       "\t GSM5470493 & 19 & 13\\_015 & MS5-2 & MS   & Periplaque                  & Absinta\\\\\n",
       "\t GSM5470494 & 20 & 12\\_078 & MS2-1 & MS   & Periplaque                  & Absinta\\\\\n",
       "\t GSM5903107 &  7 & 09\\_067 & MS3-2 & MS   & Lesion core                 & Absinta\\\\\n",
       "\t GSM5903108 &  1 & 13\\_047 & MS4-1 & MS   & Chronic active edge         & Absinta\\\\\n",
       "\t GSM5903109 &  8 & 13\\_015 & MS5-1 & MS   & Chronic inactive edge       & Absinta\\\\\n",
       "\t GSM5903110 & 13 & 12\\_002 & CTRL3 & CTRL & Normal frontal white matter & Absinta\\\\\n",
       "\t GSM5903111 &  9 & 13\\_047 & MS4-2 & MS   & Chronic inactive edge       & Absinta\\\\\n",
       "\t GSM5903112 &  2 & 09\\_034 & MS1-1 & MS   & Chronic active edge         & Absinta\\\\\n",
       "\t GSM5903113 & 10 & 13\\_015 & MS5-2 & MS   & Chronic inactive edge       & Absinta\\\\\n",
       "\t GSM5903114 & 14 & 14\\_043 & CTRL1 & CTRL & Normal frontal white matter & Absinta\\\\\n",
       "\\end{tabular}\n"
      ],
      "text/markdown": [
       "\n",
       "A data.frame: 20 × 7\n",
       "\n",
       "| GEO_ident &lt;chr&gt; | Sample &lt;int&gt; | NBB &lt;chr&gt; | Block &lt;chr&gt; | Diagnosis &lt;chr&gt; | Tissue &lt;chr&gt; | Dataset &lt;chr&gt; |\n",
       "|---|---|---|---|---|---|---|\n",
       "| GSM5470483 |  3 | 13_047 | MS4-2 | MS   | Chronic active edge         | Absinta |\n",
       "| GSM5470484 | 11 | 09_034 | MS1-2 | MS   | Chronic inactive edge       | Absinta |\n",
       "| GSM5470485 |  4 | 12_078 | MS2-1 | MS   | Chronic active edge         | Absinta |\n",
       "| GSM5470486 |  5 | 09_067 | MS3-1 | MS   | Chronic active edge         | Absinta |\n",
       "| GSM5470487 |  6 | 13_047 | MS4-2 | MS   | Chronic active edge         | Absinta |\n",
       "| GSM5470488 | 12 | 12_078 | MS2-2 | MS   | Chronic inactive edge       | Absinta |\n",
       "| GSM5470489 | 15 | 11_069 | CTRL2 | CTRL | Normal frontal white matter | Absinta |\n",
       "| GSM5470490 | 16 | 13_047 | MS4-1 | MS   | Lesion core                 | Absinta |\n",
       "| GSM5470491 | 17 | 09_034 | MS1-1 | MS   | Periplaque                  | Absinta |\n",
       "| GSM5470492 | 18 | 09_067 | MS3-1 | MS   | Periplaque                  | Absinta |\n",
       "| GSM5470493 | 19 | 13_015 | MS5-2 | MS   | Periplaque                  | Absinta |\n",
       "| GSM5470494 | 20 | 12_078 | MS2-1 | MS   | Periplaque                  | Absinta |\n",
       "| GSM5903107 |  7 | 09_067 | MS3-2 | MS   | Lesion core                 | Absinta |\n",
       "| GSM5903108 |  1 | 13_047 | MS4-1 | MS   | Chronic active edge         | Absinta |\n",
       "| GSM5903109 |  8 | 13_015 | MS5-1 | MS   | Chronic inactive edge       | Absinta |\n",
       "| GSM5903110 | 13 | 12_002 | CTRL3 | CTRL | Normal frontal white matter | Absinta |\n",
       "| GSM5903111 |  9 | 13_047 | MS4-2 | MS   | Chronic inactive edge       | Absinta |\n",
       "| GSM5903112 |  2 | 09_034 | MS1-1 | MS   | Chronic active edge         | Absinta |\n",
       "| GSM5903113 | 10 | 13_015 | MS5-2 | MS   | Chronic inactive edge       | Absinta |\n",
       "| GSM5903114 | 14 | 14_043 | CTRL1 | CTRL | Normal frontal white matter | Absinta |\n",
       "\n"
      ],
      "text/plain": [
       "   GEO_ident  Sample NBB    Block Diagnosis Tissue                      Dataset\n",
       "1  GSM5470483  3     13_047 MS4-2 MS        Chronic active edge         Absinta\n",
       "2  GSM5470484 11     09_034 MS1-2 MS        Chronic inactive edge       Absinta\n",
       "3  GSM5470485  4     12_078 MS2-1 MS        Chronic active edge         Absinta\n",
       "4  GSM5470486  5     09_067 MS3-1 MS        Chronic active edge         Absinta\n",
       "5  GSM5470487  6     13_047 MS4-2 MS        Chronic active edge         Absinta\n",
       "6  GSM5470488 12     12_078 MS2-2 MS        Chronic inactive edge       Absinta\n",
       "7  GSM5470489 15     11_069 CTRL2 CTRL      Normal frontal white matter Absinta\n",
       "8  GSM5470490 16     13_047 MS4-1 MS        Lesion core                 Absinta\n",
       "9  GSM5470491 17     09_034 MS1-1 MS        Periplaque                  Absinta\n",
       "10 GSM5470492 18     09_067 MS3-1 MS        Periplaque                  Absinta\n",
       "11 GSM5470493 19     13_015 MS5-2 MS        Periplaque                  Absinta\n",
       "12 GSM5470494 20     12_078 MS2-1 MS        Periplaque                  Absinta\n",
       "13 GSM5903107  7     09_067 MS3-2 MS        Lesion core                 Absinta\n",
       "14 GSM5903108  1     13_047 MS4-1 MS        Chronic active edge         Absinta\n",
       "15 GSM5903109  8     13_015 MS5-1 MS        Chronic inactive edge       Absinta\n",
       "16 GSM5903110 13     12_002 CTRL3 CTRL      Normal frontal white matter Absinta\n",
       "17 GSM5903111  9     13_047 MS4-2 MS        Chronic inactive edge       Absinta\n",
       "18 GSM5903112  2     09_034 MS1-1 MS        Chronic active edge         Absinta\n",
       "19 GSM5903113 10     13_015 MS5-2 MS        Chronic inactive edge       Absinta\n",
       "20 GSM5903114 14     14_043 CTRL1 CTRL      Normal frontal white matter Absinta"
      ]
     },
     "metadata": {},
     "output_type": "display_data"
    }
   ],
   "source": [
    "absinta_geo_key = read.table('inputs/zenodo/absinta_GEO_key.csv', sep=',', header = TRUE)\n",
    "absinta_geo_key"
   ]
  },
  {
   "cell_type": "markdown",
   "id": "75f88e0a-ea24-4e71-adb5-66a96345d4b9",
   "metadata": {},
   "source": [
    "Now, calculate the nuclear fraction for all barcodes in the Absinta dataset using DropletQC. This script requires the `possorted_genome_bam.bam` and `possorted_genome_bam.bam.bai` files, as well as the `raw_feature_bc_matrix/barcodes.tsv.gz` file, produced by CellRanger for each sample. Because these files are very large (requiring several hundred GBs of disk space), and because the run time for the step is quite long, this code block is currently commented out (with `#` preceding each line). We have provided .rds files in the Zenodo repository which contain the nuclear fractions we calculated, and we will use these files in the Steps 12 & 13 scripts instead.\n",
    "\n",
    "If you wish to obtain the BAM, BAM index, and barcodes files produced from our Cell Ranger run, please email `michael.odea@nyulangone.org` and `shane.liddelow@nyulangone.org`. We will be happy to arrange transfer of these files to you.\n",
    "\n",
    "If you have obtained the input files and wish to run DropletQC yourself, remove the \"#\" on each line in the below cell to un-comment the code. You can do this by selecting the lines and entering `Ctrl + /` or `Cmd + /` (depending on your platform OS)."
   ]
  },
  {
   "cell_type": "code",
   "execution_count": 3,
   "id": "2ed04742-93aa-41f2-91cd-40d69e74b800",
   "metadata": {},
   "outputs": [],
   "source": [
    "#absinta_nf_df <- c()\n",
    "#\n",
    "#for(x in 1:20){\n",
    "#\n",
    "#    geo_ident = absinta_geo_key %>% filter(Sample == x) %>% .$GEO_ident\n",
    "#   \n",
    "#    print(paste0(\"Processing sample \", geo_ident, \"...\"))\n",
    "#    \n",
    "#    nf_tmp = nuclear_fraction_tags(bam = paste0(\"inputs/absinta/CellRanger/\", geo_ident, \"/outs/possorted_genome_bam.bam\"), \n",
    "#                     bam_index = paste0(\"inputs/absinta/CellRanger/\", geo_ident, \"/outs/possorted_genome_bam.bam.bai\"),\n",
    "#                     barcodes = paste0(\"inputs/absinta/CellRanger/\", geo_ident, \"/outs/raw_feature_bc_matrix/barcodes.tsv.gz\"))\n",
    "#\n",
    "#    rownames(nf_tmp) <- paste0(gsub(\"(.*)-(.*)\", \"\\\\1\", rownames(nf_tmp)), \"-\", x)\n",
    "#\n",
    "#    if(x == 1){\n",
    "#        absinta_nf_df <- nf_tmp\n",
    "#    } else{\n",
    "#        absinta_nf_df <- rbind(absinta_nf_df, nf_tmp)\n",
    "#    }\n",
    "#}\n",
    "#\n",
    "#print(dim(absinta_nf_df))\n",
    "#      \n",
    "#saveRDS(absinta_nf_df, \"outputs/absinta_nuclear_fraction_df.rds\")"
   ]
  },
  {
   "cell_type": "markdown",
   "id": "4a83c701-b2f5-4807-b087-163946a210d3",
   "metadata": {},
   "source": [
    "We'll now repeat the process for the Schirmer dataset."
   ]
  },
  {
   "cell_type": "markdown",
   "id": "63c1e06c-c88e-454b-84a6-9cbcd664e34e",
   "metadata": {},
   "source": [
    "To do this, we first read in a preprocessed Seurat object of the combined Absinta and Schirmer datasets provided to us by the authors of Lee et al, which we will use to extract sample metadata."
   ]
  },
  {
   "cell_type": "markdown",
   "id": "9d1420ad-7c93-40b6-92ec-85650c440829",
   "metadata": {},
   "source": [
    "First load the Seurat object:"
   ]
  },
  {
   "cell_type": "code",
   "execution_count": 4,
   "id": "b6bb3268-2733-46dc-80a6-3d4e25a50d68",
   "metadata": {},
   "outputs": [
    {
     "name": "stderr",
     "output_type": "stream",
     "text": [
      "Warning message:\n",
      "“Assay RNA changing from Assay to Assay5”\n"
     ]
    },
    {
     "data": {
      "text/plain": [
       "An object of class Seurat \n",
       "91241 features across 16276 samples within 2 assays \n",
       "Active assay: RNA (61992 features, 0 variable features)\n",
       " 2 layers present: counts, data\n",
       " 1 other assay present: SCT\n",
       " 3 dimensional reductions calculated: pca, harmony, umap"
      ]
     },
     "metadata": {},
     "output_type": "display_data"
    }
   ],
   "source": [
    "human <- readRDS('inputs/zenodo/Human.MS.Astrocytes.with.memory.astrocytes.marked.out.rds')\n",
    "# convert a v3 assay to a v5 assay\n",
    "human[[\"RNA\"]] <- as(object = human[[\"RNA\"]], Class = \"Assay5\")\n",
    "human[[\"RNA\"]]$data <- as(object = human[[\"RNA\"]]$data, Class = \"dgCMatrix\")\n",
    "\n",
    "human"
   ]
  },
  {
   "cell_type": "markdown",
   "id": "4c4c76d2-a410-4c2f-b012-71f212fbc728",
   "metadata": {},
   "source": [
    "Now split the Seurat object into its component datasets, and extract the Schirmer sample metadata."
   ]
  },
  {
   "cell_type": "code",
   "execution_count": 5,
   "id": "8d3e60f6-9c0f-4fd5-8cd1-956a6bb4c179",
   "metadata": {},
   "outputs": [
    {
     "name": "stderr",
     "output_type": "stream",
     "text": [
      "Warning message:\n",
      "“Removing 8211 cells missing data for vars requested”\n",
      "Warning message:\n",
      "“Removing 8211 cells missing data for vars requested”\n"
     ]
    },
    {
     "data": {
      "text/html": [
       "<table class=\"dataframe\">\n",
       "<caption>A data.frame: 21 × 4</caption>\n",
       "<thead>\n",
       "\t<tr><th></th><th scope=col>sample</th><th scope=col>Original_sample_name</th><th scope=col>pathology</th><th scope=col>Diagnosis</th></tr>\n",
       "\t<tr><th></th><th scope=col>&lt;chr&gt;</th><th scope=col>&lt;chr&gt;</th><th scope=col>&lt;chr&gt;</th><th scope=col>&lt;chr&gt;</th></tr>\n",
       "</thead>\n",
       "<tbody>\n",
       "\t<tr><th scope=row>AAACCTGTCAGTTGAC-1_SRR9123038</th><td>SRR9123038</td><td>C1  </td><td>control_white_matter           </td><td>Control</td></tr>\n",
       "\t<tr><th scope=row>AAACCTGCATAACCTG-1_SRR9123040</th><td>SRR9123040</td><td>C2  </td><td>control_white_matter           </td><td>Control</td></tr>\n",
       "\t<tr><th scope=row>AAAGCAACACTTGGAT-1_SRR9123039</th><td>SRR9123039</td><td>C3  </td><td>control_white_matter           </td><td>Control</td></tr>\n",
       "\t<tr><th scope=row>AAACCTGCAGGTGGAT-1_SRR9123041</th><td>SRR9123041</td><td>C4  </td><td>control_white_matter           </td><td>Control</td></tr>\n",
       "\t<tr><th scope=row>AAACGGGAGGGATCTG-1_SRR9123034</th><td>SRR9123034</td><td>C5  </td><td>control_white_matter           </td><td>Control</td></tr>\n",
       "\t<tr><th scope=row>AAACGGGGTTACGTCA-1_SRR9123035</th><td>SRR9123035</td><td>C6  </td><td>control_white_matter           </td><td>Control</td></tr>\n",
       "\t<tr><th scope=row>AAACCTGAGGGTATCG-1_SRR9123036</th><td>SRR9123036</td><td>C7  </td><td>control_white_matter           </td><td>Control</td></tr>\n",
       "\t<tr><th scope=row>AACTCAGTCTTAACCT-1_SRR9123037</th><td>SRR9123037</td><td>C8  </td><td>control_white_matter           </td><td>Control</td></tr>\n",
       "\t<tr><th scope=row>AACACGTTCGTGGTCG-1_SRR9123032</th><td>SRR9123032</td><td>C9  </td><td>control_white_matter           </td><td>Control</td></tr>\n",
       "\t<tr><th scope=row>AAACCTGCACCAGATT-1_SRR9123033</th><td>SRR9123033</td><td>MS1 </td><td>chronic_active_MS_lesion_edge  </td><td>MS     </td></tr>\n",
       "\t<tr><th scope=row>AAAGCAACATCGGTTA-1_SRR9123042</th><td>SRR9123042</td><td>MS10</td><td>chronic_inactive_MS_lesion_edge</td><td>MS     </td></tr>\n",
       "\t<tr><th scope=row>AAACCTGAGAAGGTTT-1_SRR9123043</th><td>SRR9123043</td><td>MS11</td><td>chronic_inactive_MS_lesion_edge</td><td>MS     </td></tr>\n",
       "\t<tr><th scope=row>AAACCTGAGTGTCCCG-1_SRR9123045</th><td>SRR9123045</td><td>MS12</td><td>chronic_inactive_MS_lesion_edge</td><td>MS     </td></tr>\n",
       "\t<tr><th scope=row>AAACCTGAGTCATGCT-1_SRR9123044</th><td>SRR9123044</td><td>MS2 </td><td>chronic_active_MS_lesion_edge  </td><td>MS     </td></tr>\n",
       "\t<tr><th scope=row>AAAGTAGCACAACTGT-1_SRR9123046</th><td>SRR9123046</td><td>MS3 </td><td>chronic_active_MS_lesion_edge  </td><td>MS     </td></tr>\n",
       "\t<tr><th scope=row>AAACGGGTCACGCATA-1_SRR9123047</th><td>SRR9123047</td><td>MS4 </td><td>chronic_active_MS_lesion_edge  </td><td>MS     </td></tr>\n",
       "\t<tr><th scope=row>AAACGGGGTTGAGGTG-1_SRR9123048</th><td>SRR9123048</td><td>MS5 </td><td>chronic_active_MS_lesion_edge  </td><td>MS     </td></tr>\n",
       "\t<tr><th scope=row>AAACGGGCAGTCAGCC-1_SRR9123049</th><td>SRR9123049</td><td>MS6 </td><td>chronic_active_MS_lesion_edge  </td><td>MS     </td></tr>\n",
       "\t<tr><th scope=row>AAACCTGAGGCTCTTA-1_SRR9123050</th><td>SRR9123050</td><td>MS7 </td><td>chronic_active_MS_lesion_edge  </td><td>MS     </td></tr>\n",
       "\t<tr><th scope=row>AACACGTTCGACAGCC-1_SRR9123051</th><td>SRR9123051</td><td>MS8 </td><td>chronic_active_MS_lesion_edge  </td><td>MS     </td></tr>\n",
       "\t<tr><th scope=row>AAACCTGAGAATGTTG-1_SRR9123052</th><td>SRR9123052</td><td>MS9 </td><td>chronic_inactive_MS_lesion_edge</td><td>MS     </td></tr>\n",
       "</tbody>\n",
       "</table>\n"
      ],
      "text/latex": [
       "A data.frame: 21 × 4\n",
       "\\begin{tabular}{r|llll}\n",
       "  & sample & Original\\_sample\\_name & pathology & Diagnosis\\\\\n",
       "  & <chr> & <chr> & <chr> & <chr>\\\\\n",
       "\\hline\n",
       "\tAAACCTGTCAGTTGAC-1\\_SRR9123038 & SRR9123038 & C1   & control\\_white\\_matter            & Control\\\\\n",
       "\tAAACCTGCATAACCTG-1\\_SRR9123040 & SRR9123040 & C2   & control\\_white\\_matter            & Control\\\\\n",
       "\tAAAGCAACACTTGGAT-1\\_SRR9123039 & SRR9123039 & C3   & control\\_white\\_matter            & Control\\\\\n",
       "\tAAACCTGCAGGTGGAT-1\\_SRR9123041 & SRR9123041 & C4   & control\\_white\\_matter            & Control\\\\\n",
       "\tAAACGGGAGGGATCTG-1\\_SRR9123034 & SRR9123034 & C5   & control\\_white\\_matter            & Control\\\\\n",
       "\tAAACGGGGTTACGTCA-1\\_SRR9123035 & SRR9123035 & C6   & control\\_white\\_matter            & Control\\\\\n",
       "\tAAACCTGAGGGTATCG-1\\_SRR9123036 & SRR9123036 & C7   & control\\_white\\_matter            & Control\\\\\n",
       "\tAACTCAGTCTTAACCT-1\\_SRR9123037 & SRR9123037 & C8   & control\\_white\\_matter            & Control\\\\\n",
       "\tAACACGTTCGTGGTCG-1\\_SRR9123032 & SRR9123032 & C9   & control\\_white\\_matter            & Control\\\\\n",
       "\tAAACCTGCACCAGATT-1\\_SRR9123033 & SRR9123033 & MS1  & chronic\\_active\\_MS\\_lesion\\_edge   & MS     \\\\\n",
       "\tAAAGCAACATCGGTTA-1\\_SRR9123042 & SRR9123042 & MS10 & chronic\\_inactive\\_MS\\_lesion\\_edge & MS     \\\\\n",
       "\tAAACCTGAGAAGGTTT-1\\_SRR9123043 & SRR9123043 & MS11 & chronic\\_inactive\\_MS\\_lesion\\_edge & MS     \\\\\n",
       "\tAAACCTGAGTGTCCCG-1\\_SRR9123045 & SRR9123045 & MS12 & chronic\\_inactive\\_MS\\_lesion\\_edge & MS     \\\\\n",
       "\tAAACCTGAGTCATGCT-1\\_SRR9123044 & SRR9123044 & MS2  & chronic\\_active\\_MS\\_lesion\\_edge   & MS     \\\\\n",
       "\tAAAGTAGCACAACTGT-1\\_SRR9123046 & SRR9123046 & MS3  & chronic\\_active\\_MS\\_lesion\\_edge   & MS     \\\\\n",
       "\tAAACGGGTCACGCATA-1\\_SRR9123047 & SRR9123047 & MS4  & chronic\\_active\\_MS\\_lesion\\_edge   & MS     \\\\\n",
       "\tAAACGGGGTTGAGGTG-1\\_SRR9123048 & SRR9123048 & MS5  & chronic\\_active\\_MS\\_lesion\\_edge   & MS     \\\\\n",
       "\tAAACGGGCAGTCAGCC-1\\_SRR9123049 & SRR9123049 & MS6  & chronic\\_active\\_MS\\_lesion\\_edge   & MS     \\\\\n",
       "\tAAACCTGAGGCTCTTA-1\\_SRR9123050 & SRR9123050 & MS7  & chronic\\_active\\_MS\\_lesion\\_edge   & MS     \\\\\n",
       "\tAACACGTTCGACAGCC-1\\_SRR9123051 & SRR9123051 & MS8  & chronic\\_active\\_MS\\_lesion\\_edge   & MS     \\\\\n",
       "\tAAACCTGAGAATGTTG-1\\_SRR9123052 & SRR9123052 & MS9  & chronic\\_inactive\\_MS\\_lesion\\_edge & MS     \\\\\n",
       "\\end{tabular}\n"
      ],
      "text/markdown": [
       "\n",
       "A data.frame: 21 × 4\n",
       "\n",
       "| <!--/--> | sample &lt;chr&gt; | Original_sample_name &lt;chr&gt; | pathology &lt;chr&gt; | Diagnosis &lt;chr&gt; |\n",
       "|---|---|---|---|---|\n",
       "| AAACCTGTCAGTTGAC-1_SRR9123038 | SRR9123038 | C1   | control_white_matter            | Control |\n",
       "| AAACCTGCATAACCTG-1_SRR9123040 | SRR9123040 | C2   | control_white_matter            | Control |\n",
       "| AAAGCAACACTTGGAT-1_SRR9123039 | SRR9123039 | C3   | control_white_matter            | Control |\n",
       "| AAACCTGCAGGTGGAT-1_SRR9123041 | SRR9123041 | C4   | control_white_matter            | Control |\n",
       "| AAACGGGAGGGATCTG-1_SRR9123034 | SRR9123034 | C5   | control_white_matter            | Control |\n",
       "| AAACGGGGTTACGTCA-1_SRR9123035 | SRR9123035 | C6   | control_white_matter            | Control |\n",
       "| AAACCTGAGGGTATCG-1_SRR9123036 | SRR9123036 | C7   | control_white_matter            | Control |\n",
       "| AACTCAGTCTTAACCT-1_SRR9123037 | SRR9123037 | C8   | control_white_matter            | Control |\n",
       "| AACACGTTCGTGGTCG-1_SRR9123032 | SRR9123032 | C9   | control_white_matter            | Control |\n",
       "| AAACCTGCACCAGATT-1_SRR9123033 | SRR9123033 | MS1  | chronic_active_MS_lesion_edge   | MS      |\n",
       "| AAAGCAACATCGGTTA-1_SRR9123042 | SRR9123042 | MS10 | chronic_inactive_MS_lesion_edge | MS      |\n",
       "| AAACCTGAGAAGGTTT-1_SRR9123043 | SRR9123043 | MS11 | chronic_inactive_MS_lesion_edge | MS      |\n",
       "| AAACCTGAGTGTCCCG-1_SRR9123045 | SRR9123045 | MS12 | chronic_inactive_MS_lesion_edge | MS      |\n",
       "| AAACCTGAGTCATGCT-1_SRR9123044 | SRR9123044 | MS2  | chronic_active_MS_lesion_edge   | MS      |\n",
       "| AAAGTAGCACAACTGT-1_SRR9123046 | SRR9123046 | MS3  | chronic_active_MS_lesion_edge   | MS      |\n",
       "| AAACGGGTCACGCATA-1_SRR9123047 | SRR9123047 | MS4  | chronic_active_MS_lesion_edge   | MS      |\n",
       "| AAACGGGGTTGAGGTG-1_SRR9123048 | SRR9123048 | MS5  | chronic_active_MS_lesion_edge   | MS      |\n",
       "| AAACGGGCAGTCAGCC-1_SRR9123049 | SRR9123049 | MS6  | chronic_active_MS_lesion_edge   | MS      |\n",
       "| AAACCTGAGGCTCTTA-1_SRR9123050 | SRR9123050 | MS7  | chronic_active_MS_lesion_edge   | MS      |\n",
       "| AACACGTTCGACAGCC-1_SRR9123051 | SRR9123051 | MS8  | chronic_active_MS_lesion_edge   | MS      |\n",
       "| AAACCTGAGAATGTTG-1_SRR9123052 | SRR9123052 | MS9  | chronic_inactive_MS_lesion_edge | MS      |\n",
       "\n"
      ],
      "text/plain": [
       "                              sample     Original_sample_name\n",
       "AAACCTGTCAGTTGAC-1_SRR9123038 SRR9123038 C1                  \n",
       "AAACCTGCATAACCTG-1_SRR9123040 SRR9123040 C2                  \n",
       "AAAGCAACACTTGGAT-1_SRR9123039 SRR9123039 C3                  \n",
       "AAACCTGCAGGTGGAT-1_SRR9123041 SRR9123041 C4                  \n",
       "AAACGGGAGGGATCTG-1_SRR9123034 SRR9123034 C5                  \n",
       "AAACGGGGTTACGTCA-1_SRR9123035 SRR9123035 C6                  \n",
       "AAACCTGAGGGTATCG-1_SRR9123036 SRR9123036 C7                  \n",
       "AACTCAGTCTTAACCT-1_SRR9123037 SRR9123037 C8                  \n",
       "AACACGTTCGTGGTCG-1_SRR9123032 SRR9123032 C9                  \n",
       "AAACCTGCACCAGATT-1_SRR9123033 SRR9123033 MS1                 \n",
       "AAAGCAACATCGGTTA-1_SRR9123042 SRR9123042 MS10                \n",
       "AAACCTGAGAAGGTTT-1_SRR9123043 SRR9123043 MS11                \n",
       "AAACCTGAGTGTCCCG-1_SRR9123045 SRR9123045 MS12                \n",
       "AAACCTGAGTCATGCT-1_SRR9123044 SRR9123044 MS2                 \n",
       "AAAGTAGCACAACTGT-1_SRR9123046 SRR9123046 MS3                 \n",
       "AAACGGGTCACGCATA-1_SRR9123047 SRR9123047 MS4                 \n",
       "AAACGGGGTTGAGGTG-1_SRR9123048 SRR9123048 MS5                 \n",
       "AAACGGGCAGTCAGCC-1_SRR9123049 SRR9123049 MS6                 \n",
       "AAACCTGAGGCTCTTA-1_SRR9123050 SRR9123050 MS7                 \n",
       "AACACGTTCGACAGCC-1_SRR9123051 SRR9123051 MS8                 \n",
       "AAACCTGAGAATGTTG-1_SRR9123052 SRR9123052 MS9                 \n",
       "                              pathology                       Diagnosis\n",
       "AAACCTGTCAGTTGAC-1_SRR9123038 control_white_matter            Control  \n",
       "AAACCTGCATAACCTG-1_SRR9123040 control_white_matter            Control  \n",
       "AAAGCAACACTTGGAT-1_SRR9123039 control_white_matter            Control  \n",
       "AAACCTGCAGGTGGAT-1_SRR9123041 control_white_matter            Control  \n",
       "AAACGGGAGGGATCTG-1_SRR9123034 control_white_matter            Control  \n",
       "AAACGGGGTTACGTCA-1_SRR9123035 control_white_matter            Control  \n",
       "AAACCTGAGGGTATCG-1_SRR9123036 control_white_matter            Control  \n",
       "AACTCAGTCTTAACCT-1_SRR9123037 control_white_matter            Control  \n",
       "AACACGTTCGTGGTCG-1_SRR9123032 control_white_matter            Control  \n",
       "AAACCTGCACCAGATT-1_SRR9123033 chronic_active_MS_lesion_edge   MS       \n",
       "AAAGCAACATCGGTTA-1_SRR9123042 chronic_inactive_MS_lesion_edge MS       \n",
       "AAACCTGAGAAGGTTT-1_SRR9123043 chronic_inactive_MS_lesion_edge MS       \n",
       "AAACCTGAGTGTCCCG-1_SRR9123045 chronic_inactive_MS_lesion_edge MS       \n",
       "AAACCTGAGTCATGCT-1_SRR9123044 chronic_active_MS_lesion_edge   MS       \n",
       "AAAGTAGCACAACTGT-1_SRR9123046 chronic_active_MS_lesion_edge   MS       \n",
       "AAACGGGTCACGCATA-1_SRR9123047 chronic_active_MS_lesion_edge   MS       \n",
       "AAACGGGGTTGAGGTG-1_SRR9123048 chronic_active_MS_lesion_edge   MS       \n",
       "AAACGGGCAGTCAGCC-1_SRR9123049 chronic_active_MS_lesion_edge   MS       \n",
       "AAACCTGAGGCTCTTA-1_SRR9123050 chronic_active_MS_lesion_edge   MS       \n",
       "AACACGTTCGACAGCC-1_SRR9123051 chronic_active_MS_lesion_edge   MS       \n",
       "AAACCTGAGAATGTTG-1_SRR9123052 chronic_inactive_MS_lesion_edge MS       "
      ]
     },
     "metadata": {},
     "output_type": "display_data"
    }
   ],
   "source": [
    "schirmer = human[,WhichCells(human, expression = `DataSource` == \"Schirmer_2019\")]\n",
    "absinta = human[,setdiff(colnames(human), WhichCells(human, expression = `DataSource` == \"Schirmer_2019\"))]\n",
    "schirmer_annotation = schirmer@meta.data[, c('sample', 'Original_sample_name', 'pathology')]\n",
    "schirmer_key = schirmer_annotation[!duplicated(schirmer_annotation), ]\n",
    "schirmer_key$Diagnosis <- c(rep(\"Control\", 9), rep(\"MS\", 12))\n",
    "schirmer_annotation$barcode <- gsub(\"(.*)_(.*)\", \"\\\\1\", rownames(schirmer_annotation))\n",
    "schirmer_key"
   ]
  },
  {
   "cell_type": "markdown",
   "id": "59128a2b-8e86-44e0-83fa-4f662ce37827",
   "metadata": {},
   "source": [
    "We'll save the metadata information for use in the Step 13 script."
   ]
  },
  {
   "cell_type": "code",
   "execution_count": 6,
   "id": "2948c2f5-21ae-4acf-aea3-0ef4fb81e06d",
   "metadata": {},
   "outputs": [],
   "source": [
    "saveRDS(schirmer_key, 'outputs/schirmer_key.rds')\n",
    "saveRDS(schirmer_annotation, 'outputs/schirmer_annotation.rds')"
   ]
  },
  {
   "cell_type": "markdown",
   "id": "e59a0fdf-77aa-49a3-beb9-f1f55452736e",
   "metadata": {},
   "source": [
    "Next we'll calculate the nuclear fractions. Note that this cell will take a long time to run.\n",
    "\n",
    "Again, this code cell is commented out. If you have obtained the .bam and .bai files and wish to run DropletQC yourself, remove the \"#\" on each line in the below cell to un-comment the code. You can do this by selecting the lines and entering `Ctrl + /` or `Cmd + /` (depending on your platform OS)."
   ]
  },
  {
   "cell_type": "code",
   "execution_count": 7,
   "id": "ff67d923-ab61-4fb9-81db-b751266d6619",
   "metadata": {},
   "outputs": [],
   "source": [
    "#schirmer_nf_df <- c()\n",
    "#\n",
    "#for(x in unique(schirmer_key$sample)){\n",
    "#\n",
    "#    sample_ident = schirmer_key %>% filter(sample == x) %>% .$Original_sample_name\n",
    "#\n",
    "#    print(paste0(\"Processing sample \", sample_ident, \"...\"))\n",
    "#    \n",
    "#    schirmer_nf_tmp = nuclear_fraction_tags(bam = paste0('inputs/schirmer/CellRanger/', sample_ident, '_10x/outs/possorted_genome_bam.bam'), \n",
    "#                     bam_index = paste0('inputs/schirmer/CellRanger/', sample_ident, '_10x/outs/possorted_genome_bam.bam.bai'),\n",
    "#                     barcodes = paste0('inputs/schirmer/CellRanger/', sample_ident, '_10x/outs/raw_feature_bc_matrix/barcodes.tsv.gz'))\n",
    "#\n",
    "#    rownames(schirmer_nf_tmp) <- paste0(rownames(schirmer_nf_tmp), '_', x)\n",
    "#\n",
    "#    if(x == 1){\n",
    "#        schirmer_nf_df <- schirmer_nf_tmp\n",
    "#    } else{\n",
    "#        schirmer_nf_df <- rbind(schirmer_nf_df, schirmer_nf_tmp)\n",
    "#    }\n",
    "#}\n",
    "#\n",
    "#print(dim(schirmer_nf_df))\n",
    "#\n",
    "#saveRDS(schirmer_nf_df, 'outputs/schirmer_nuclear_fraction_df.rds')"
   ]
  },
  {
   "cell_type": "markdown",
   "id": "7a925c28-87f1-457f-bc08-d14661990aeb",
   "metadata": {},
   "source": [
    "Lastly, we'll save the combined dataset Seurat object and separated Absinta and Schirmer Seurat objects for easier use in the following scripts."
   ]
  },
  {
   "cell_type": "code",
   "execution_count": 8,
   "id": "585a4401-92b6-4f72-b9d2-2755e92eec6a",
   "metadata": {},
   "outputs": [],
   "source": [
    "saveRDS(human, 'outputs/combined_human_seurat_object.rds')\n",
    "saveRDS(absinta, 'outputs/absinta_seurat_object.rds')\n",
    "saveRDS(schirmer, 'outputs/schirmer_seurat_object.rds')"
   ]
  },
  {
   "cell_type": "code",
   "execution_count": 9,
   "id": "f6618220-f458-479e-b094-088484f34b89",
   "metadata": {},
   "outputs": [
    {
     "data": {
      "text/plain": [
       "R version 4.3.3 (2024-02-29)\n",
       "Platform: x86_64-apple-darwin13.4.0 (64-bit)\n",
       "Running under: macOS Big Sur ... 10.16\n",
       "\n",
       "Matrix products: default\n",
       "BLAS/LAPACK: /Users/liddelowlab/mambaforge/envs/EpiMemAstros/lib/libopenblasp-r0.3.28.dylib;  LAPACK version 3.12.0\n",
       "\n",
       "locale:\n",
       "[1] en_US.UTF-8/en_US.UTF-8/en_US.UTF-8/C/en_US.UTF-8/en_US.UTF-8\n",
       "\n",
       "time zone: America/New_York\n",
       "tzcode source: system (macOS)\n",
       "\n",
       "attached base packages:\n",
       "[1] stats     graphics  grDevices utils     datasets  methods   base     \n",
       "\n",
       "other attached packages:\n",
       "[1] Seurat_5.1.0         SeuratObject_5.0.2   sp_2.1-4            \n",
       "[4] dplyr_1.1.4          ggplot2_3.5.1        data.table_1.15.4   \n",
       "[7] DropletQC_0.0.0.9000\n",
       "\n",
       "loaded via a namespace (and not attached):\n",
       "  [1] deldir_2.0-4           pbapply_1.7-2          gridExtra_2.3         \n",
       "  [4] rlang_1.1.4            magrittr_2.0.3         RcppAnnoy_0.0.22      \n",
       "  [7] spatstat.geom_3.3-4    matrixStats_1.4.1      ggridges_0.5.6        \n",
       " [10] compiler_4.3.3         png_0.1-8              vctrs_0.6.5           \n",
       " [13] reshape2_1.4.4         stringr_1.5.1          pkgconfig_2.0.3       \n",
       " [16] crayon_1.5.3           fastmap_1.2.0          promises_1.3.2        \n",
       " [19] purrr_1.0.2            jsonlite_1.8.9         goftest_1.2-3         \n",
       " [22] later_1.4.1            spatstat.utils_3.1-1   uuid_1.2-1            \n",
       " [25] irlba_2.3.5.1          parallel_4.3.3         cluster_2.1.8         \n",
       " [28] R6_2.5.1               ica_1.0-3              spatstat.data_3.1-4   \n",
       " [31] stringi_1.8.4          RColorBrewer_1.1-3     reticulate_1.40.0     \n",
       " [34] spatstat.univar_3.1-1  parallelly_1.41.0      lmtest_0.9-40         \n",
       " [37] scattermore_1.2        Rcpp_1.0.13-1          IRkernel_1.3.2        \n",
       " [40] tensor_1.5             future.apply_1.11.2    zoo_1.8-12            \n",
       " [43] base64enc_0.1-3        sctransform_0.4.1      httpuv_1.6.15         \n",
       " [46] Matrix_1.6-5           splines_4.3.3          igraph_2.0.3          \n",
       " [49] tidyselect_1.2.1       abind_1.4-5            spatstat.random_3.3-2 \n",
       " [52] spatstat.explore_3.3-3 codetools_0.2-20       miniUI_0.1.1.1        \n",
       " [55] listenv_0.9.1          lattice_0.22-6         tibble_3.2.1          \n",
       " [58] plyr_1.8.9             shiny_1.10.0           withr_3.0.2           \n",
       " [61] ROCR_1.0-11            evaluate_1.0.1         Rtsne_0.17            \n",
       " [64] future_1.34.0          fastDummies_1.7.4      survival_3.8-3        \n",
       " [67] polyclip_1.10-7        fitdistrplus_1.2-1     mclust_6.1.1          \n",
       " [70] pillar_1.10.0          KernSmooth_2.23-26     plotly_4.10.4         \n",
       " [73] generics_0.1.3         RcppHNSW_0.6.0         IRdisplay_1.1         \n",
       " [76] munsell_0.5.1          scales_1.3.0           globals_0.16.3        \n",
       " [79] xtable_1.8-4           glue_1.8.0             lazyeval_0.2.2        \n",
       " [82] tools_4.3.3            RSpectra_0.16-2        pbdZMQ_0.3-13         \n",
       " [85] RANN_2.6.2             leiden_0.4.3.1         dotCall64_1.2         \n",
       " [88] cowplot_1.1.3          grid_4.3.3             tidyr_1.3.1           \n",
       " [91] colorspace_2.1-1       nlme_3.1-165           patchwork_1.3.0       \n",
       " [94] repr_1.1.7             cli_3.6.3              spatstat.sparse_3.1-0 \n",
       " [97] spam_2.11-0            viridisLite_0.4.2      uwot_0.1.16           \n",
       "[100] gtable_0.3.6           digest_0.6.37          progressr_0.15.1      \n",
       "[103] ggrepel_0.9.6          htmlwidgets_1.6.4      farver_2.1.2          \n",
       "[106] htmltools_0.5.8.1      lifecycle_1.0.4        httr_1.4.7            \n",
       "[109] mime_0.12              MASS_7.3-60.0.1       "
      ]
     },
     "metadata": {},
     "output_type": "display_data"
    }
   ],
   "source": [
    "sessionInfo()"
   ]
  },
  {
   "cell_type": "code",
   "execution_count": 10,
   "id": "2eef6c73-845e-450c-b1c4-e72cb963196b",
   "metadata": {},
   "outputs": [
    {
     "data": {
      "text/plain": [
       "               _                           \n",
       "platform       x86_64-apple-darwin13.4.0   \n",
       "arch           x86_64                      \n",
       "os             darwin13.4.0                \n",
       "system         x86_64, darwin13.4.0        \n",
       "status                                     \n",
       "major          4                           \n",
       "minor          3.3                         \n",
       "year           2024                        \n",
       "month          02                          \n",
       "day            29                          \n",
       "svn rev        86002                       \n",
       "language       R                           \n",
       "version.string R version 4.3.3 (2024-02-29)\n",
       "nickname       Angel Food Cake             "
      ]
     },
     "metadata": {},
     "output_type": "display_data"
    }
   ],
   "source": [
    "version"
   ]
  }
 ],
 "metadata": {
  "kernelspec": {
   "display_name": "R",
   "language": "R",
   "name": "ir"
  },
  "language_info": {
   "codemirror_mode": "r",
   "file_extension": ".r",
   "mimetype": "text/x-r-source",
   "name": "R",
   "pygments_lexer": "r",
   "version": "4.2.3"
  }
 },
 "nbformat": 4,
 "nbformat_minor": 5
}
