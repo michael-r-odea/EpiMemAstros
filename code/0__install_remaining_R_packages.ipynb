{
 "cells": [
  {
   "cell_type": "markdown",
   "id": "e702ccc1-40ec-4dbd-912c-5940d0ac3ed8",
   "metadata": {},
   "source": [
    "## Step 0: Install remaining R packages"
   ]
  },
  {
   "cell_type": "markdown",
   "id": "60966593-457d-4e35-98f0-07ced15b6277",
   "metadata": {},
   "source": [
    "First we need to download an additional package that wasn't available from conda due to dependency issues."
   ]
  },
  {
   "cell_type": "code",
   "execution_count": 1,
   "id": "7b473a9f-2516-4378-a356-97e5c5b84bc1",
   "metadata": {},
   "outputs": [
    {
     "name": "stderr",
     "output_type": "stream",
     "text": [
      "also installing the dependency ‘RhpcBLASctl’\n",
      "\n",
      "\n",
      "Updating HTML index of packages in '.Library'\n",
      "\n",
      "Making 'packages.html' ...\n",
      " done\n",
      "\n",
      "Downloading GitHub repo powellgenomicslab/DropletQC@v1.0.0\n",
      "\n",
      "Installing 12 packages: plogr, blob, filelock, dbplyr, KEGGREST, RSQLite, DBI, BiocFileCache, AnnotationDbi, biomaRt, GenomicFeatures, furrr\n",
      "\n",
      "Updating HTML index of packages in '.Library'\n",
      "\n",
      "Making 'packages.html' ...\n",
      " done\n",
      "\n"
     ]
    },
    {
     "name": "stdout",
     "output_type": "stream",
     "text": [
      "\u001b[36m──\u001b[39m \u001b[36mR CMD build\u001b[39m \u001b[36m──────────────────────────────────────────────────────────────────────────────────────────────────────────\u001b[39m\n",
      "\u001b[32m✔\u001b[39m  \u001b[90mchecking for file ‘/private/var/folders/s3/tntkzwtx595cbz0665j_z4tc0000gr/T/RtmptBnWkl/remotes1746f2ad3320f/powellgenomicslab-DropletQC-5d7dadc/DESCRIPTION’\u001b[39m\u001b[36m\u001b[39m\n",
      "\u001b[90m─\u001b[39m\u001b[90m  \u001b[39m\u001b[90mpreparing ‘DropletQC’:\u001b[39m\u001b[36m\u001b[39m\n",
      "\u001b[32m✔\u001b[39m  \u001b[90mchecking DESCRIPTION meta-information\u001b[39m\u001b[36m\u001b[39m\n",
      "\u001b[90m─\u001b[39m\u001b[90m  \u001b[39m\u001b[90mchecking for LF line-endings in source and make files and shell scripts\u001b[39m\u001b[36m\u001b[39m\n",
      "\u001b[90m─\u001b[39m\u001b[90m  \u001b[39m\u001b[90mchecking for empty or unneeded directories\u001b[39m\u001b[36m\u001b[39m\n",
      "     NB: this package now depends on R (>= 3.5.0)\n",
      "     WARNING: Added dependency on R >= 3.5.0 because serialized objects in\n",
      "     serialize/load version 3 cannot be read in older versions of R.\n",
      "     File(s) containing such objects:\n",
      "       ‘DropletQC/data/qc_examples.rda’\n",
      "\u001b[90m─\u001b[39m\u001b[90m  \u001b[39m\u001b[90mbuilding ‘DropletQC_0.0.0.9000.tar.gz’\u001b[39m\u001b[36m\u001b[39m\n",
      "   \n"
     ]
    }
   ],
   "source": [
    "install.packages('harmony', repos = 'http://cran.us.r-project.org')\n",
    "remotes::install_github(\"powellgenomicslab/DropletQC@v1.0.0\", upgrade = FALSE)"
   ]
  },
  {
   "cell_type": "code",
   "execution_count": 2,
   "id": "63e6410f-3d24-44ce-a3ff-e7675aca2b8e",
   "metadata": {},
   "outputs": [
    {
     "data": {
      "text/plain": [
       "R version 4.3.3 (2024-02-29)\n",
       "Platform: x86_64-apple-darwin13.4.0 (64-bit)\n",
       "Running under: macOS Big Sur ... 10.16\n",
       "\n",
       "Matrix products: default\n",
       "BLAS/LAPACK: /Users/liddelowlab/mambaforge/envs/EpiMemAstros/lib/libopenblasp-r0.3.28.dylib;  LAPACK version 3.12.0\n",
       "\n",
       "locale:\n",
       "[1] en_US.UTF-8/en_US.UTF-8/en_US.UTF-8/C/en_US.UTF-8/en_US.UTF-8\n",
       "\n",
       "time zone: America/New_York\n",
       "tzcode source: system (macOS)\n",
       "\n",
       "attached base packages:\n",
       "[1] stats     graphics  grDevices utils     datasets  methods   base     \n",
       "\n",
       "loaded via a namespace (and not attached):\n",
       " [1] desc_1.4.3        digest_0.6.37     IRdisplay_1.1     R6_2.5.1         \n",
       " [5] base64enc_0.1-3   fastmap_1.2.0     remotes_2.5.0     glue_1.8.0       \n",
       " [9] htmltools_0.5.8.1 repr_1.1.7        lifecycle_1.0.4   ps_1.8.1         \n",
       "[13] cli_3.6.3         processx_3.8.4    callr_3.7.6       vctrs_0.6.5      \n",
       "[17] pbdZMQ_0.3-13     compiler_4.3.3    tools_4.3.3       pkgbuild_1.4.5   \n",
       "[21] curl_6.0.1        evaluate_1.0.1    pillar_1.10.0     rlang_1.1.4      \n",
       "[25] jsonlite_1.8.9    crayon_1.5.3      IRkernel_1.3.2    uuid_1.2-1       "
      ]
     },
     "metadata": {},
     "output_type": "display_data"
    }
   ],
   "source": [
    "sessionInfo()"
   ]
  },
  {
   "cell_type": "code",
   "execution_count": 3,
   "id": "4e46011e-6fa1-41aa-8de2-63a35f55090f",
   "metadata": {},
   "outputs": [
    {
     "data": {
      "text/plain": [
       "               _                           \n",
       "platform       x86_64-apple-darwin13.4.0   \n",
       "arch           x86_64                      \n",
       "os             darwin13.4.0                \n",
       "system         x86_64, darwin13.4.0        \n",
       "status                                     \n",
       "major          4                           \n",
       "minor          3.3                         \n",
       "year           2024                        \n",
       "month          02                          \n",
       "day            29                          \n",
       "svn rev        86002                       \n",
       "language       R                           \n",
       "version.string R version 4.3.3 (2024-02-29)\n",
       "nickname       Angel Food Cake             "
      ]
     },
     "metadata": {},
     "output_type": "display_data"
    }
   ],
   "source": [
    "version"
   ]
  }
 ],
 "metadata": {
  "kernelspec": {
   "display_name": "R",
   "language": "R",
   "name": "ir"
  },
  "language_info": {
   "codemirror_mode": "r",
   "file_extension": ".r",
   "mimetype": "text/x-r-source",
   "name": "R",
   "pygments_lexer": "r",
   "version": "4.3.3"
  }
 },
 "nbformat": 4,
 "nbformat_minor": 5
}
