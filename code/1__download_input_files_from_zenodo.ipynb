{
 "cells": [
  {
   "cell_type": "markdown",
   "id": "e702ccc1-40ec-4dbd-912c-5940d0ac3ed8",
   "metadata": {},
   "source": [
    "## Step 1: Download input files from Zenodo"
   ]
  },
  {
   "cell_type": "markdown",
   "id": "d2f9bf25-b411-4f0f-a204-7250e607bf94",
   "metadata": {},
   "source": [
    "The following scripts (Steps 2-17) will require a few input files which were too large to package in our Github repository. We will first download these files from a [Zenodo repository](https://zenodo.org/records/14567478)."
   ]
  },
  {
   "cell_type": "code",
   "execution_count": 1,
   "id": "290ad1ab-d65f-427f-9558-9ff3b7ab72be",
   "metadata": {},
   "outputs": [],
   "source": [
    "import os\n",
    "os.chdir('..') # changing working directory to 'EpiMemAstros' folder, adjust as needed"
   ]
  },
  {
   "cell_type": "code",
   "execution_count": 2,
   "id": "c11f6a9f-ad05-4361-b5f1-fed749e53298",
   "metadata": {},
   "outputs": [
    {
     "name": "stderr",
     "output_type": "stream",
     "text": [
      "Title: EpiMemAstros_InputFiles\n",
      "Keywords: \n",
      "Publication date: 2025-02-24\n",
      "DOI: 10.5281/zenodo.14919413\n",
      "Total size: 12.2 GB\n",
      "\n",
      "Link: https://zenodo.org/records/14919413/files/zenodo.zip   size: 12.2 GB\n",
      "\n",
      "Checksum is correct. (3fe1b94c8fa4a07631d3e947749f242c)\n",
      "All files have been downloaded.\n"
     ]
    },
    {
     "name": "stdout",
     "output_type": "stream",
     "text": [
      "Archive:  zenodo.zip\n",
      "   creating: zenodo/\n",
      "   creating: zenodo/supplementary_tables/\n",
      "  inflating: zenodo/wheeler_lee_overlap_sankey.svg  \n",
      "   creating: zenodo/schirmer/\n",
      "  inflating: zenodo/wheeler_geo_key.csv  \n",
      "  inflating: zenodo/Human.MS.Astrocytes.with.memory.astrocytes.marked.out.rds  \n",
      "  inflating: zenodo/absinta_GEO_key.csv  \n",
      "  inflating: zenodo/Mouse.TDTomato.Astrocytes.with.memory.astrocytes.marked.out.rds  \n",
      "  inflating: zenodo/downsampled_abc_atlas.h5ad  \n",
      "  inflating: zenodo/IL1B.and.TNF.vs.PBS.SPF.2X.dge.tsv  \n",
      "  inflating: zenodo/wheeler_lee_overlap_sankey_source.txt  \n",
      "  inflating: zenodo/2x.IL1B.and.TNF.vs.1x.IL1B.dge.tsv  \n",
      "  inflating: zenodo/schirmer_nuclear_fraction_df.rds  \n",
      "  inflating: zenodo/absinta_nuclear_fraction_df.rds  \n",
      "   creating: zenodo/absinta/\n",
      "  inflating: zenodo/Wheeler_Lee_TdTomato_Barcodes_Final.tsv  \n",
      "   creating: zenodo/output_seurat_objects/\n",
      "   creating: zenodo/rebuttal/\n",
      "  inflating: zenodo/supplementary_tables/41586_2024_7187_MOESM9_ESM.xlsx  \n",
      "  inflating: zenodo/supplementary_tables/41586_2024_7187_MOESM2_ESM.xlsx  \n",
      "  inflating: zenodo/supplementary_tables/41586_2024_7187_MOESM10_ESM.xlsx  \n",
      "  inflating: zenodo/supplementary_tables/41586_2024_7187_MOESM4_ESM.xlsx  \n",
      "  inflating: zenodo/supplementary_tables/41586_2024_7187_MOESM5_ESM.xlsx  \n",
      "   creating: zenodo/schirmer/cellbender/\n",
      "   creating: zenodo/absinta/cellbender/\n",
      "  inflating: zenodo/output_seurat_objects/wheeler_final_seurat_object.rds  \n",
      "  inflating: zenodo/output_seurat_objects/combined_human_final_seurat_object.rds  \n",
      "  inflating: zenodo/output_seurat_objects/combined_human_REANALYSIS_final_seurat_object.rds  \n",
      "  inflating: zenodo/rebuttal/TDTOMATO_Astrocytes_final.rds  \n",
      "  inflating: zenodo/rebuttal/human_rebuttal_sankey_source.txt  \n",
      "  inflating: zenodo/rebuttal/Human_Astrocytes_final.rds  \n",
      "  inflating: zenodo/rebuttal/wheeler_rebuttal_sankey.svg  \n",
      "  inflating: zenodo/rebuttal/wheeler_rebuttal_sankey_source.txt  \n",
      "  inflating: zenodo/rebuttal/human_rebuttal_sankey.svg  \n",
      "  inflating: zenodo/schirmer/cellbender/MS2_10x_output_filtered.h5  \n",
      "  inflating: zenodo/schirmer/cellbender/MS10_10x_output_filtered.h5  \n",
      "  inflating: zenodo/schirmer/cellbender/C6_10x_output_filtered.h5  \n",
      "  inflating: zenodo/schirmer/cellbender/MS8_10x_output_filtered.h5  \n",
      "  inflating: zenodo/schirmer/cellbender/MS5_10x_output_filtered.h5  \n",
      "  inflating: zenodo/schirmer/cellbender/C1_10x_output_filtered.h5  \n",
      "  inflating: zenodo/schirmer/cellbender/C8_10x_output_filtered.h5  \n",
      "  inflating: zenodo/schirmer/cellbender/C2_10x_output_filtered.h5  \n",
      "  inflating: zenodo/schirmer/cellbender/MS6_10x_output_filtered.h5  \n",
      "  inflating: zenodo/schirmer/cellbender/C5_10x_output_filtered.h5  \n",
      "  inflating: zenodo/schirmer/cellbender/MS1_10x_output_filtered.h5  \n",
      "  inflating: zenodo/schirmer/cellbender/C4_10x_output_filtered.h5  \n",
      "  inflating: zenodo/schirmer/cellbender/MS12_10x_output_filtered.h5  \n",
      "  inflating: zenodo/schirmer/cellbender/C3_10x_output_filtered.h5  \n",
      "  inflating: zenodo/schirmer/cellbender/MS7_10x_output_filtered.h5  \n",
      "  inflating: zenodo/schirmer/cellbender/C9_10x_output_filtered.h5  \n",
      "  inflating: zenodo/schirmer/cellbender/MS4_10x_output_filtered.h5  \n",
      "  inflating: zenodo/schirmer/cellbender/MS9_10x_output_filtered.h5  \n",
      "  inflating: zenodo/schirmer/cellbender/MS3_10x_output_filtered.h5  \n",
      "  inflating: zenodo/schirmer/cellbender/MS11_10x_output_filtered.h5  \n",
      "  inflating: zenodo/schirmer/cellbender/C7_10x_output_filtered.h5  \n",
      "  inflating: zenodo/absinta/cellbender/GSM5470483_output_filtered.h5  \n",
      "  inflating: zenodo/absinta/cellbender/GSM5470493_output_filtered.h5  \n",
      "  inflating: zenodo/absinta/cellbender/GSM5903110_output_filtered.h5  \n",
      "  inflating: zenodo/absinta/cellbender/GSM5470490_output_filtered.h5  \n",
      "  inflating: zenodo/absinta/cellbender/GSM5903113_output_filtered.h5  \n",
      "  inflating: zenodo/absinta/cellbender/GSM5903108_output_filtered.h5  \n",
      "  inflating: zenodo/absinta/cellbender/GSM5470486_output_filtered.h5  \n",
      "  inflating: zenodo/absinta/cellbender/GSM5470485_output_filtered.h5  \n",
      "  inflating: zenodo/absinta/cellbender/GSM5470488_output_filtered.h5  \n",
      "  inflating: zenodo/absinta/cellbender/GSM5470494_output_filtered.h5  \n",
      "  inflating: zenodo/absinta/cellbender/GSM5903107_output_filtered.h5  \n",
      "  inflating: zenodo/absinta/cellbender/GSM5470484_output_filtered.h5  \n",
      "  inflating: zenodo/absinta/cellbender/GSM5470489_output_filtered.h5  \n",
      "  inflating: zenodo/absinta/cellbender/GSM5903109_output_filtered.h5  \n",
      "  inflating: zenodo/absinta/cellbender/GSM5470487_output_filtered.h5  \n",
      "  inflating: zenodo/absinta/cellbender/GSM5903114_output_filtered.h5  \n",
      "  inflating: zenodo/absinta/cellbender/GSM5470491_output_filtered.h5  \n",
      "  inflating: zenodo/absinta/cellbender/GSM5903112_output_filtered.h5  \n",
      "  inflating: zenodo/absinta/cellbender/GSM5470492_output_filtered.h5  \n",
      "  inflating: zenodo/absinta/cellbender/GSM5903111_output_filtered.h5  \n"
     ]
    }
   ],
   "source": [
    "%%bash\n",
    "\n",
    "cd inputs\n",
    "\n",
    "zenodo_get -r 14919413\n",
    "\n",
    "unzip zenodo.zip"
   ]
  }
 ],
 "metadata": {
  "kernelspec": {
   "display_name": "Python 3 (ipykernel)",
   "language": "python",
   "name": "python3"
  },
  "language_info": {
   "codemirror_mode": {
    "name": "ipython",
    "version": 3
   },
   "file_extension": ".py",
   "mimetype": "text/x-python",
   "name": "python",
   "nbconvert_exporter": "python",
   "pygments_lexer": "ipython3",
   "version": "3.12.8"
  }
 },
 "nbformat": 4,
 "nbformat_minor": 5
}
