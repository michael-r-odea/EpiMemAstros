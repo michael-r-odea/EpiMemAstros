{
 "cells": [
  {
   "cell_type": "markdown",
   "id": "7d57e86a-b18d-421a-aaf8-b967641260f2",
   "metadata": {},
   "source": [
    "## Step 9: Create CellTypist model from Allen Brain Cell atlas data "
   ]
  },
  {
   "cell_type": "markdown",
   "id": "2d35c74d-7d7c-4af2-89b3-d1a29a7a9010",
   "metadata": {},
   "source": [
    "In Step 8, we manually annotated many of the clusters in the Wheeler et al mouse EAE single-cell RNA-seq dataset as non-astrocyte cell types. Next we'll use [CellTypist (PMID: 35549406)](https://pubmed.ncbi.nlm.nih.gov/35549406/), a machine learning tool for automated cell type annotation, to check if it agrees with our manual annotations.\n",
    "\n",
    "The first step in using CellTypist is the creation of a model from a reference dataset. In this case we use the Allen Brain Cell atlas ([Yao et al 2023, PMID: 38092916](https://pubmed.ncbi.nlm.nih.gov/38092916/)) as a reference for typical gene expression across brain cell types."
   ]
  },
  {
   "cell_type": "code",
   "execution_count": 1,
   "id": "c130f10a-afb2-4d79-8245-dc161783d94f",
   "metadata": {},
   "outputs": [],
   "source": [
    "import os\n",
    "os.chdir('..') # changing working directory to parent 'EpiMemAstros' directory, adjust as needed\n",
    "import pandas as pd\n",
    "from pathlib import Path\n",
    "import numpy as np\n",
    "import anndata as ad\n",
    "from scipy import sparse\n",
    "import scanpy as sc\n",
    "import celltypist"
   ]
  },
  {
   "cell_type": "markdown",
   "id": "2736b220-efee-4a34-aaee-2fa5613dad97",
   "metadata": {},
   "source": [
    "### Part 1: Load the ABC atlas, create cell type groups, and downsample"
   ]
  },
  {
   "cell_type": "markdown",
   "id": "a9f3f8b8-7a52-4f19-b578-a4b6823d761d",
   "metadata": {},
   "source": [
    "First we'll load the atlas anndata object. Note that this H5AD file requires hundreds of GBs if the AnnData object is read fully into memory. Depending on your hardware specs, you may need to load this file in 'backed' mode so that it is not fully loaded into memory. [See the Scanpy documentation for details.](https://scanpy.readthedocs.io/en/stable/generated/scanpy.read_h5ad.html)\n",
    "\n",
    "*Alternatively*, you may skip ahead to **Part 2** below and load a pre-made downsampled anndata object which we provided in the Zenodo repository you downloaded in Step 0."
   ]
  },
  {
   "cell_type": "code",
   "execution_count": 2,
   "id": "eaa33e5e-34a9-4d34-9c6d-3d696d4f4666",
   "metadata": {},
   "outputs": [
    {
     "data": {
      "text/plain": [
       "AnnData object with n_obs × n_vars = 4042976 × 32285\n",
       "    obs: 'cell_barcode_x', 'library_label_x', 'anatomical_division_label', 'cell_barcode_y', 'barcoded_cell_sample_label', 'library_label_y', 'feature_matrix_label', 'entity', 'brain_section_label', 'library_method', 'region_of_interest_acronym', 'donor_label', 'donor_genotype', 'donor_sex', 'dataset_label', 'x', 'y', 'cluster_alias', 'abc_sample_id', 'neurotransmitter', 'class', 'subclass', 'supertype', 'cluster'\n",
       "    var: 'gene_symbol', 'name', 'mapped_ncbi_identifier', 'comment'"
      ]
     },
     "execution_count": 2,
     "metadata": {},
     "output_type": "execute_result"
    }
   ],
   "source": [
    "mouse_atlas = sc.read_h5ad('outputs/allen_brain_cell_atlas-RAW.h5ad')\n",
    "mouse_atlas"
   ]
  },
  {
   "cell_type": "markdown",
   "id": "d7fd4ee1-bb25-4e63-804e-0251c14c1de6",
   "metadata": {},
   "source": [
    "Next, we swap out ENSEMBL ids for gene symbols in the anndata object .var names, and we normalize and log-transform the count matrix."
   ]
  },
  {
   "cell_type": "code",
   "execution_count": 3,
   "id": "df56f3cc-2b7b-4fec-a67e-d648bc957e8b",
   "metadata": {},
   "outputs": [],
   "source": [
    "mouse_atlas.var['ensembl_id'] = mouse_atlas.var.index\n",
    "mouse_atlas.var['gene_symbol'] = mouse_atlas.var['gene_symbol'].astype(str)\n",
    "mouse_atlas.var['original_gene_symbol'] = mouse_atlas.var.gene_symbol\n",
    "mouse_atlas.var.index = mouse_atlas.var.gene_symbol\n",
    "mouse_atlas.var_names_make_unique()\n",
    "\n",
    "sc.pp.normalize_total(mouse_atlas, target_sum=10000)\n",
    "sc.pp.log1p(mouse_atlas)"
   ]
  },
  {
   "cell_type": "markdown",
   "id": "430c6153-c7ef-4d5c-86f9-279e96beeca7",
   "metadata": {},
   "source": [
    "We next group the atlas clusters into broader cell type categories. For cell type annotations, we aggregate neuronal clusters into broader classes: glutamatergic neurons, immature glutamatergic neurons, GABAergic neurons, immature GABAergic neurons, dopaminergic neurons, and serotonergic neurons."
   ]
  },
  {
   "cell_type": "code",
   "execution_count": 4,
   "id": "6ab21e5d-d2c0-4421-8e91-1f93f1ae955b",
   "metadata": {},
   "outputs": [],
   "source": [
    "obs_df = mouse_atlas.obs\n",
    "obs_df['celltype'] = np.where(obs_df['class'].isin(['01 IT-ET Glut',\n",
    "                                                     '02 NP-CT-L6b Glut',\n",
    "                                                     '03 OB-CR Glut',\n",
    "                                                     '13 CNU-HYa Glut',\n",
    "                                                     '14 HY Glut',\n",
    "                                                     '15 HY Gnrh1 Glut',\n",
    "                                                     '16 HY MM Glut',\n",
    "                                                     '17 MH-LH Glut',\n",
    "                                                     '18 TH Glut',\n",
    "                                                     '19 MB Glut',\n",
    "                                                     '23 P Glut',\n",
    "                                                     '24 MY Glut',\n",
    "                                                     '25 Pineal Glut',\n",
    "                                                     '29 CB Glut']),\n",
    "                              \"Glutamatergic neuron\", \"\")\n",
    "obs_df['celltype'] = np.where(obs_df['class'].isin([\n",
    "                                                     '06 CTX-CGE GABA',\n",
    "                                                     '07 CTX-MGE GABA',\n",
    "                                                     '08 CNU-MGE GABA',\n",
    "                                                     '09 CNU-LGE GABA',\n",
    "                                                     '10 LSX GABA',\n",
    "                                                     '11 CNU-HYa GABA',\n",
    "                                                     '12 HY GABA',\n",
    "                                                     '20 MB GABA',\n",
    "                                                     '26 P GABA',\n",
    "                                                     '27 MY GABA',\n",
    "                                                     '28 CB GABA']),\n",
    "                              \"GABAergic neuron\", obs_df['celltype'])\n",
    "obs_df['celltype'] = np.where(obs_df['class'].isin(['04 DG-IMN Glut']),\n",
    "                              \"Immature glutamatergic neuron\", obs_df['celltype'])\n",
    "obs_df['celltype'] = np.where(obs_df['class'].isin(['05 OB-IMN GABA']),\n",
    "                              \"Immature GABAergic neuron\", obs_df['celltype'])\n",
    "obs_df['celltype'] = np.where(obs_df['class'].isin(['21 MB Dopa']),\n",
    "                              \"Dopaminergic neuron\", obs_df['celltype'])\n",
    "obs_df['celltype'] = np.where(obs_df['class'].isin(['22 MB-HB Sero']),\n",
    "                              \"Serotonergic neuron\", obs_df['celltype'])"
   ]
  },
  {
   "cell_type": "markdown",
   "id": "202eb006-6809-4d8a-b727-e650c87651c4",
   "metadata": {},
   "source": [
    "Next we aggregate all astrocyte clusters into a single astrocyte category."
   ]
  },
  {
   "cell_type": "code",
   "execution_count": 5,
   "id": "07e5d5ae-f485-4aa5-9d60-5df137c0f94c",
   "metadata": {},
   "outputs": [],
   "source": [
    "obs_df['celltype'] = np.where(obs_df['subclass'].isin(['317 Astro-CB NN', '318 Astro-NT NN',\n",
    "       '319 Astro-TE NN', '320 Astro-OLF NN']), \"Astrocyte\", obs_df['celltype'])"
   ]
  },
  {
   "cell_type": "markdown",
   "id": "d2680807-6ee4-4c69-8ef0-5162e3217216",
   "metadata": {},
   "source": [
    "Now we'll rename the remaining cluster classes so they're easier to read:"
   ]
  },
  {
   "cell_type": "code",
   "execution_count": 6,
   "id": "929788ba-d255-4636-8f2b-c3dad748de10",
   "metadata": {},
   "outputs": [],
   "source": [
    "obs_df['celltype'] = np.where(obs_df['subclass']=='316 Bergmann NN', \"Bergmann glia\", obs_df['celltype'])\n",
    "obs_df['celltype'] = np.where(obs_df['subclass']=='321 Astroependymal NN', \"Astroependymal\", obs_df['celltype'])\n",
    "obs_df['celltype'] = np.where(obs_df['subclass']=='322 Tanycyte NN', \"Tanycyte\", obs_df['celltype'])\n",
    "obs_df['celltype'] = np.where(obs_df['subclass']=='323 Ependymal NN', \"Ependymal\", obs_df['celltype'])\n",
    "obs_df['celltype'] = np.where(obs_df['subclass']=='324 Hypendymal NN', \"Hypendymal\", obs_df['celltype'])\n",
    "obs_df['celltype'] = np.where(obs_df['subclass']=='325 CHOR NN', \"Choroid plexus\", obs_df['celltype'])\n",
    "obs_df['celltype'] = np.where(obs_df['subclass']=='326 OPC NN', \"OPC\", obs_df['celltype'])\n",
    "obs_df['celltype'] = np.where(obs_df['subclass']=='327 Oligo NN', \"Oligodendrocyte\", obs_df['celltype'])\n",
    "obs_df['celltype'] = np.where(obs_df['subclass']=='328 OEC NN', \"Olfactory epithelial\", obs_df['celltype'])\n",
    "obs_df['celltype'] = np.where(obs_df['subclass']=='329 ABC NN', \"Arachnoid barrier\", obs_df['celltype'])\n",
    "obs_df['celltype'] = np.where(obs_df['subclass']=='330 VLMC NN', \"Vascular leptomeningeal\", obs_df['celltype'])\n",
    "obs_df['celltype'] = np.where(obs_df['subclass']=='331 Peri NN', \"Pericyte\", obs_df['celltype'])\n",
    "obs_df['celltype'] = np.where(obs_df['subclass']=='332 SMC NN', \"Smooth muscle\", obs_df['celltype'])\n",
    "obs_df['celltype'] = np.where(obs_df['subclass']=='333 Endo NN', \"Endothelial\", obs_df['celltype'])\n",
    "obs_df['celltype'] = np.where(obs_df['subclass']=='334 Microglia NN', \"Microglia\", obs_df['celltype'])\n",
    "obs_df['celltype'] = np.where(obs_df['subclass']=='335 BAM NN', \"BAM\", obs_df['celltype'])\n",
    "obs_df['celltype'] = np.where(obs_df['subclass']=='336 Monocytes NN', \"Monocyte\", obs_df['celltype'])\n",
    "obs_df['celltype'] = np.where(obs_df['subclass']=='337 DC NN', \"Dendritic\", obs_df['celltype'])\n",
    "obs_df['celltype'] = np.where(obs_df['subclass']=='338 Lymphoid NN', \"Lymphoid\", obs_df['celltype'])\n",
    "\n",
    "mouse_atlas.obs = obs_df\n",
    "mouse_atlas.obs.celltype = mouse_atlas.obs.celltype.astype('category')"
   ]
  },
  {
   "cell_type": "markdown",
   "id": "ee88d912-d7d6-458e-b519-523591e0fd64",
   "metadata": {},
   "source": [
    "Now let's check how many cells we have in each renamed cell type category:"
   ]
  },
  {
   "cell_type": "code",
   "execution_count": 7,
   "id": "ae9f0b76-c5f7-46e9-8a6c-2d0fb0baa60a",
   "metadata": {},
   "outputs": [
    {
     "data": {
      "text/plain": [
       "celltype\n",
       "Glutamatergic neuron             1978218\n",
       "GABAergic neuron                  781072\n",
       "Oligodendrocyte                   422574\n",
       "Astrocyte                         299182\n",
       "OPC                               122605\n",
       "Immature GABAergic neuron         107502\n",
       "Endothelial                        88011\n",
       "Microglia                          86232\n",
       "Immature glutamatergic neuron      84352\n",
       "Pericyte                           24907\n",
       "Smooth muscle                      14614\n",
       "Vascular leptomeningeal             9104\n",
       "BAM                                 5626\n",
       "Dopaminergic neuron                 4301\n",
       "Bergmann glia                       3321\n",
       "Ependymal                           3259\n",
       "Serotonergic neuron                 2466\n",
       "Astroependymal                      1232\n",
       "Olfactory epithelial                1132\n",
       "Tanycyte                            1072\n",
       "Arachnoid barrier                    857\n",
       "Choroid plexus                       476\n",
       "Lymphoid                             404\n",
       "Dendritic                            285\n",
       "Hypendymal                           139\n",
       "Monocyte                              33\n",
       "Name: count, dtype: int64"
      ]
     },
     "execution_count": 7,
     "metadata": {},
     "output_type": "execute_result"
    }
   ],
   "source": [
    "obs_df.celltype.value_counts()"
   ]
  },
  {
   "cell_type": "markdown",
   "id": "5f1e2701-182f-4901-bceb-b6ff17d5548b",
   "metadata": {},
   "source": [
    "We can see we have hundreds of thousands to millions of certain neuron categories and other cell type categories like Monocytes and Hypendymal cells have very few cells. Because this reference atlas would be prohibitively large to run with CellTypist as is, we choose to randomly downsample each cell type category so that each category has a maximum of 5,000 cells. We also remove any cell type categories which have fewer than 400 cells, as we did in Step 3, as these cell type categories comprise less than 0.01% of the dataset."
   ]
  },
  {
   "cell_type": "code",
   "execution_count": 8,
   "id": "9c3e081f-b604-4641-ba69-08e336e7e209",
   "metadata": {},
   "outputs": [
    {
     "data": {
      "text/plain": [
       "AnnData object with n_obs × n_vars = 83520 × 32285\n",
       "    obs: 'cell_barcode_x', 'library_label_x', 'anatomical_division_label', 'cell_barcode_y', 'barcoded_cell_sample_label', 'library_label_y', 'feature_matrix_label', 'entity', 'brain_section_label', 'library_method', 'region_of_interest_acronym', 'donor_label', 'donor_genotype', 'donor_sex', 'dataset_label', 'x', 'y', 'cluster_alias', 'abc_sample_id', 'neurotransmitter', 'class', 'subclass', 'supertype', 'cluster', 'celltype', 'batch'\n",
       "    var: 'name', 'mapped_ncbi_identifier', 'comment', 'ensembl_id', 'original_gene_symbol'"
      ]
     },
     "execution_count": 8,
     "metadata": {},
     "output_type": "execute_result"
    }
   ],
   "source": [
    "target_cells = 5000\n",
    "min_cells = 400\n",
    "cluster_key = \"celltype\"\n",
    "\n",
    "adatas = [mouse_atlas[mouse_atlas.obs[cluster_key].isin([clust])] for clust in mouse_atlas.obs[cluster_key].cat.categories]\n",
    "\n",
    "for dat in adatas:\n",
    "    if dat.n_obs > target_cells:\n",
    "        sc.pp.subsample(dat, n_obs=target_cells)\n",
    "    elif dat.n_obs < min_cells:\n",
    "        sc.pp.subsample(dat, n_obs=0)\n",
    "\n",
    "adata_downsampled = adatas[0].concatenate(*adatas[1:])\n",
    "del adata_downsampled.var['gene_symbol']\n",
    "\n",
    "adata_downsampled"
   ]
  },
  {
   "cell_type": "markdown",
   "id": "7fb2b9f3-97b4-42e1-99d4-95fc0a604f41",
   "metadata": {},
   "source": [
    "Now, let's check that downsampling worked as expected:"
   ]
  },
  {
   "cell_type": "code",
   "execution_count": 9,
   "id": "75707d6b-3202-404f-a043-1c9b1026d75d",
   "metadata": {},
   "outputs": [
    {
     "data": {
      "text/plain": [
       "celltype\n",
       "Astrocyte                        5000\n",
       "BAM                              5000\n",
       "Microglia                        5000\n",
       "Immature GABAergic neuron        5000\n",
       "Glutamatergic neuron             5000\n",
       "GABAergic neuron                 5000\n",
       "Endothelial                      5000\n",
       "Vascular leptomeningeal          5000\n",
       "Smooth muscle                    5000\n",
       "Pericyte                         5000\n",
       "OPC                              5000\n",
       "Oligodendrocyte                  5000\n",
       "Immature glutamatergic neuron    5000\n",
       "Dopaminergic neuron              4301\n",
       "Bergmann glia                    3321\n",
       "Ependymal                        3259\n",
       "Serotonergic neuron              2466\n",
       "Astroependymal                   1232\n",
       "Olfactory epithelial             1132\n",
       "Tanycyte                         1072\n",
       "Arachnoid barrier                 857\n",
       "Choroid plexus                    476\n",
       "Lymphoid                          404\n",
       "Name: count, dtype: int64"
      ]
     },
     "execution_count": 9,
     "metadata": {},
     "output_type": "execute_result"
    }
   ],
   "source": [
    "adata_downsampled.obs.celltype.value_counts()"
   ]
  },
  {
   "cell_type": "markdown",
   "id": "abb24594-bccf-4a22-963e-20f784836e23",
   "metadata": {},
   "source": [
    "Now we'll save the downsampled anndata object:"
   ]
  },
  {
   "cell_type": "code",
   "execution_count": 10,
   "id": "e3eb0de5-1f68-4974-bc2f-68d69f2df1a2",
   "metadata": {},
   "outputs": [
    {
     "name": "stderr",
     "output_type": "stream",
     "text": [
      "... storing 'original_gene_symbol' as categorical\n"
     ]
    }
   ],
   "source": [
    "adata_downsampled.write_h5ad('outputs/downsampled_abc_atlas.h5ad')"
   ]
  },
  {
   "cell_type": "markdown",
   "id": "ef7ca3e0-cddf-4f68-b690-b95902315683",
   "metadata": {},
   "source": [
    "### Part 2: Train a new CellTypist model"
   ]
  },
  {
   "cell_type": "markdown",
   "id": "ae3fea78-18a3-4cf7-a448-5858e876ce83",
   "metadata": {},
   "source": [
    "Lastly, we'll train a new CellTypist model on the downsampled anndata object and save the model:"
   ]
  },
  {
   "cell_type": "markdown",
   "id": "a7322461-b061-4860-8131-7196b518c62b",
   "metadata": {},
   "source": [
    "If you skipped **Part 1** due to the large memory/disk space requirements and wish to instead use a pre-made downsampled AnnData object, you can uncomment the following code cell. Otherwise you can proceed to the following cell."
   ]
  },
  {
   "cell_type": "code",
   "execution_count": 11,
   "id": "effc06ac-7127-4750-bf61-419bcdbf8b98",
   "metadata": {},
   "outputs": [],
   "source": [
    "#adata_downsampled = sc.read_h5ad('inputs/zenodo/downsampled_abc_atlas.h5ad')"
   ]
  },
  {
   "cell_type": "code",
   "execution_count": 12,
   "id": "b0f1e777-de5d-422b-9323-80fadb8642d6",
   "metadata": {},
   "outputs": [
    {
     "name": "stderr",
     "output_type": "stream",
     "text": [
      "🍳 Preparing data before training\n",
      "✂️ 2823 non-expressed genes are filtered out\n",
      "🔬 Input data has 83520 cells and 29462 genes\n",
      "⚖️ Scaling input data\n",
      "🏋️ Training data using logistic regression\n",
      "✅ Model training done!\n"
     ]
    }
   ],
   "source": [
    "model = celltypist.train(adata_downsampled, labels = \"celltype\", n_jobs = 8,\n",
    "                         check_expression = False)\n",
    "model.write('outputs/celltypist_ABC_model.pkl')"
   ]
  }
 ],
 "metadata": {
  "kernelspec": {
   "display_name": "Python 3 (ipykernel)",
   "language": "python",
   "name": "python3"
  },
  "language_info": {
   "codemirror_mode": {
    "name": "ipython",
    "version": 3
   },
   "file_extension": ".py",
   "mimetype": "text/x-python",
   "name": "python",
   "nbconvert_exporter": "python",
   "pygments_lexer": "ipython3",
   "version": "3.12.8"
  }
 },
 "nbformat": 4,
 "nbformat_minor": 5
}
